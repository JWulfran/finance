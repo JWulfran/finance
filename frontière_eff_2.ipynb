{
 "cells": [
  {
   "cell_type": "code",
   "execution_count": 1,
   "metadata": {},
   "outputs": [],
   "source": [
    "import numpy as np \n",
    "import pandas as pd \n",
    "import yfinance as yf \n",
    "import matplotlib.pyplot as plt \n",
    "from datetime import date"
   ]
  },
  {
   "cell_type": "code",
   "execution_count": 2,
   "metadata": {},
   "outputs": [
    {
     "name": "stderr",
     "output_type": "stream",
     "text": [
      "[*********************100%%**********************]  7 of 7 completed\n"
     ]
    }
   ],
   "source": [
    "#Créer la dataframe : définir la date de début et de fin, les titres \n",
    "Asset = [\"AAPL\",\"META\",\"MSFT\",\"AMZN\",\"TSLA\",\"GOOGL\",\"MCD\"]\n",
    "\n",
    "startDate = date(2010,1,1)\n",
    "endDate = date(2024,8,1)\n",
    "\n",
    "prix = yf.download(Asset,startDate,endDate )[\"Adj Close\"]"
   ]
  },
  {
   "cell_type": "code",
   "execution_count": 3,
   "metadata": {},
   "outputs": [
    {
     "data": {
      "text/html": [
       "<div>\n",
       "<style scoped>\n",
       "    .dataframe tbody tr th:only-of-type {\n",
       "        vertical-align: middle;\n",
       "    }\n",
       "\n",
       "    .dataframe tbody tr th {\n",
       "        vertical-align: top;\n",
       "    }\n",
       "\n",
       "    .dataframe thead th {\n",
       "        text-align: right;\n",
       "    }\n",
       "</style>\n",
       "<table border=\"1\" class=\"dataframe\">\n",
       "  <thead>\n",
       "    <tr style=\"text-align: right;\">\n",
       "      <th>Ticker</th>\n",
       "      <th>AAPL</th>\n",
       "      <th>AMZN</th>\n",
       "      <th>GOOGL</th>\n",
       "      <th>MCD</th>\n",
       "      <th>META</th>\n",
       "      <th>MSFT</th>\n",
       "      <th>TSLA</th>\n",
       "    </tr>\n",
       "    <tr>\n",
       "      <th>Date</th>\n",
       "      <th></th>\n",
       "      <th></th>\n",
       "      <th></th>\n",
       "      <th></th>\n",
       "      <th></th>\n",
       "      <th></th>\n",
       "      <th></th>\n",
       "    </tr>\n",
       "  </thead>\n",
       "  <tbody>\n",
       "    <tr>\n",
       "      <th>2012-05-21</th>\n",
       "      <td>0.056626</td>\n",
       "      <td>0.019725</td>\n",
       "      <td>0.022578</td>\n",
       "      <td>0.015681</td>\n",
       "      <td>-0.116378</td>\n",
       "      <td>0.016266</td>\n",
       "      <td>0.042968</td>\n",
       "    </tr>\n",
       "    <tr>\n",
       "      <th>2012-05-22</th>\n",
       "      <td>-0.007708</td>\n",
       "      <td>-0.012828</td>\n",
       "      <td>-0.021912</td>\n",
       "      <td>0.000767</td>\n",
       "      <td>-0.093255</td>\n",
       "      <td>0.000336</td>\n",
       "      <td>0.068181</td>\n",
       "    </tr>\n",
       "    <tr>\n",
       "      <th>2012-05-23</th>\n",
       "      <td>0.024107</td>\n",
       "      <td>0.009015</td>\n",
       "      <td>0.014311</td>\n",
       "      <td>0.001531</td>\n",
       "      <td>0.031749</td>\n",
       "      <td>-0.022084</td>\n",
       "      <td>0.007118</td>\n",
       "    </tr>\n",
       "    <tr>\n",
       "      <th>2012-05-24</th>\n",
       "      <td>-0.009226</td>\n",
       "      <td>-0.009433</td>\n",
       "      <td>-0.009562</td>\n",
       "      <td>0.000546</td>\n",
       "      <td>0.031680</td>\n",
       "      <td>-0.001375</td>\n",
       "      <td>-0.024145</td>\n",
       "    </tr>\n",
       "    <tr>\n",
       "      <th>2012-05-25</th>\n",
       "      <td>-0.005375</td>\n",
       "      <td>-0.010978</td>\n",
       "      <td>-0.020299</td>\n",
       "      <td>-0.005257</td>\n",
       "      <td>-0.034497</td>\n",
       "      <td>-0.000344</td>\n",
       "      <td>-0.015644</td>\n",
       "    </tr>\n",
       "    <tr>\n",
       "      <th>...</th>\n",
       "      <td>...</td>\n",
       "      <td>...</td>\n",
       "      <td>...</td>\n",
       "      <td>...</td>\n",
       "      <td>...</td>\n",
       "      <td>...</td>\n",
       "      <td>...</td>\n",
       "    </tr>\n",
       "    <tr>\n",
       "      <th>2024-07-25</th>\n",
       "      <td>-0.004816</td>\n",
       "      <td>-0.005434</td>\n",
       "      <td>-0.031482</td>\n",
       "      <td>-0.007567</td>\n",
       "      <td>-0.017187</td>\n",
       "      <td>-0.024786</td>\n",
       "      <td>0.019531</td>\n",
       "    </tr>\n",
       "    <tr>\n",
       "      <th>2024-07-26</th>\n",
       "      <td>0.002159</td>\n",
       "      <td>0.014627</td>\n",
       "      <td>-0.001675</td>\n",
       "      <td>0.002145</td>\n",
       "      <td>0.026745</td>\n",
       "      <td>0.016286</td>\n",
       "      <td>-0.002045</td>\n",
       "    </tr>\n",
       "    <tr>\n",
       "      <th>2024-07-29</th>\n",
       "      <td>0.001284</td>\n",
       "      <td>0.003828</td>\n",
       "      <td>0.015036</td>\n",
       "      <td>0.036699</td>\n",
       "      <td>0.000021</td>\n",
       "      <td>0.003427</td>\n",
       "      <td>0.054450</td>\n",
       "    </tr>\n",
       "    <tr>\n",
       "      <th>2024-07-30</th>\n",
       "      <td>0.002563</td>\n",
       "      <td>-0.008166</td>\n",
       "      <td>0.004473</td>\n",
       "      <td>0.019021</td>\n",
       "      <td>-0.005426</td>\n",
       "      <td>-0.008968</td>\n",
       "      <td>-0.041702</td>\n",
       "    </tr>\n",
       "    <tr>\n",
       "      <th>2024-07-31</th>\n",
       "      <td>0.014880</td>\n",
       "      <td>0.028590</td>\n",
       "      <td>0.007314</td>\n",
       "      <td>-0.003911</td>\n",
       "      <td>0.024820</td>\n",
       "      <td>-0.010865</td>\n",
       "      <td>0.041573</td>\n",
       "    </tr>\n",
       "  </tbody>\n",
       "</table>\n",
       "<p>3068 rows × 7 columns</p>\n",
       "</div>"
      ],
      "text/plain": [
       "Ticker          AAPL      AMZN     GOOGL       MCD      META      MSFT  \\\n",
       "Date                                                                     \n",
       "2012-05-21  0.056626  0.019725  0.022578  0.015681 -0.116378  0.016266   \n",
       "2012-05-22 -0.007708 -0.012828 -0.021912  0.000767 -0.093255  0.000336   \n",
       "2012-05-23  0.024107  0.009015  0.014311  0.001531  0.031749 -0.022084   \n",
       "2012-05-24 -0.009226 -0.009433 -0.009562  0.000546  0.031680 -0.001375   \n",
       "2012-05-25 -0.005375 -0.010978 -0.020299 -0.005257 -0.034497 -0.000344   \n",
       "...              ...       ...       ...       ...       ...       ...   \n",
       "2024-07-25 -0.004816 -0.005434 -0.031482 -0.007567 -0.017187 -0.024786   \n",
       "2024-07-26  0.002159  0.014627 -0.001675  0.002145  0.026745  0.016286   \n",
       "2024-07-29  0.001284  0.003828  0.015036  0.036699  0.000021  0.003427   \n",
       "2024-07-30  0.002563 -0.008166  0.004473  0.019021 -0.005426 -0.008968   \n",
       "2024-07-31  0.014880  0.028590  0.007314 -0.003911  0.024820 -0.010865   \n",
       "\n",
       "Ticker          TSLA  \n",
       "Date                  \n",
       "2012-05-21  0.042968  \n",
       "2012-05-22  0.068181  \n",
       "2012-05-23  0.007118  \n",
       "2012-05-24 -0.024145  \n",
       "2012-05-25 -0.015644  \n",
       "...              ...  \n",
       "2024-07-25  0.019531  \n",
       "2024-07-26 -0.002045  \n",
       "2024-07-29  0.054450  \n",
       "2024-07-30 -0.041702  \n",
       "2024-07-31  0.041573  \n",
       "\n",
       "[3068 rows x 7 columns]"
      ]
     },
     "execution_count": 3,
     "metadata": {},
     "output_type": "execute_result"
    }
   ],
   "source": [
    "rendement = np.log(prix/prix.shift(1))\n",
    "rendement.dropna(inplace=True)\n",
    "rendement"
   ]
  },
  {
   "cell_type": "code",
   "execution_count": 4,
   "metadata": {},
   "outputs": [],
   "source": [
    "Er = np.array([rendement.mean()]) #au cas pense à utiliser la fct np.array()\n",
    "Std = rendement.std()\n",
    "VarCov = rendement.cov()"
   ]
  },
  {
   "cell_type": "code",
   "execution_count": 5,
   "metadata": {},
   "outputs": [],
   "source": [
    "VU = np.ones((7,1)) #attention à dimension du vecteur unitaire\n",
    "inv_VarCov = np.linalg.inv(VarCov)"
   ]
  },
  {
   "cell_type": "code",
   "execution_count": 6,
   "metadata": {},
   "outputs": [
    {
     "name": "stdout",
     "output_type": "stream",
     "text": [
      "(7, 1)\n",
      "(7, 7)\n"
     ]
    }
   ],
   "source": [
    "print(VU.shape)\n",
    "print(inv_VarCov.shape)"
   ]
  },
  {
   "cell_type": "code",
   "execution_count": 7,
   "metadata": {},
   "outputs": [],
   "source": [
    "GMV = (inv_VarCov@VU)/(VU.T@inv_VarCov@VU)\n",
    "Er_GMV = GMV.T@Er.T\n",
    "Std_GMV = np.sqrt(np.dot(np.dot(GMV.T,VarCov),GMV))"
   ]
  },
  {
   "cell_type": "code",
   "execution_count": 8,
   "metadata": {},
   "outputs": [],
   "source": [
    "Er_rf = np.array([rendement.mean() - 0.02]) #Convertir les rendements excédentaires \n",
    "                                            #en array() permet de faire les transposés \n",
    "Sharpe = (inv_VarCov@Er_rf.T)/(VU.T@inv_VarCov@Er_rf.T)\n",
    "Er_Sharpe = Sharpe.T@Er.T\n",
    "Std_Sharpe = np.sqrt(np.dot(np.dot(Sharpe.T,VarCov),Sharpe))"
   ]
  },
  {
   "cell_type": "code",
   "execution_count": 9,
   "metadata": {},
   "outputs": [],
   "source": [
    "Cov_GMV_Sharpe = np.array(GMV.T@VarCov@Sharpe)\n",
    "\n",
    "w_GMV = np.linspace(-2,3,100)\n",
    "w_Sharpe = 1 - w_GMV\n",
    "\n",
    "Er_fr_eff = (w_GMV * Er_GMV + w_Sharpe * Er_Sharpe)\n",
    "Std_fr_eff = np.sqrt(((w_GMV*Std_GMV)**2+(w_Sharpe*Std_Sharpe)**2+2*w_GMV*w_Sharpe*Cov_GMV_Sharpe))"
   ]
  },
  {
   "cell_type": "code",
   "execution_count": 10,
   "metadata": {},
   "outputs": [
    {
     "data": {
      "image/png": "[encoded data removed]",
      "text/plain": [
       "<Figure size 640x480 with 1 Axes>"
      ]
     },
     "metadata": {},
     "output_type": "display_data"
    }
   ],
   "source": [
    "plt.scatter(Std_fr_eff,Er_fr_eff,)\n",
    "plt.show()"
   ]
  },
  {
   "cell_type": "code",
   "execution_count": null,
   "metadata": {},
   "outputs": [],
   "source": []
  }
 ],
 "metadata": {
  "kernelspec": {
   "display_name": "env_finance",
   "language": "python",
   "name": "python3"
  },
  "language_info": {
   "codemirror_mode": {
    "name": "ipython",
    "version": 3
   },
   "file_extension": ".py",
   "mimetype": "text/x-python",
   "name": "python",
   "nbconvert_exporter": "python",
   "pygments_lexer": "ipython3",
   "version": "3.12.4"
  }
 },
 "nbformat": 4,
 "nbformat_minor": 2
}
