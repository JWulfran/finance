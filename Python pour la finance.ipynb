{
 "cells": [
  {
   "cell_type": "markdown",
   "metadata": {},
   "source": [
    "<h1>Variables, Types et Opérations</h1>"
   ]
  },
  {
   "cell_type": "markdown",
   "metadata": {},
   "source": [
    "==> Variables "
   ]
  },
  {
   "cell_type": "code",
   "execution_count": 1,
   "metadata": {},
   "outputs": [
    {
     "name": "stdout",
     "output_type": "stream",
     "text": [
      "5\n"
     ]
    }
   ],
   "source": [
    "a = 5\n",
    "print(a)"
   ]
  },
  {
   "cell_type": "code",
   "execution_count": 2,
   "metadata": {},
   "outputs": [
    {
     "name": "stdout",
     "output_type": "stream",
     "text": [
      "5\n",
      "8\n"
     ]
    }
   ],
   "source": [
    "a = 5\n",
    "print(a)\n",
    "a = 8\n",
    "print(a)"
   ]
  },
  {
   "cell_type": "markdown",
   "metadata": {},
   "source": [
    "==> Type"
   ]
  },
  {
   "cell_type": "code",
   "execution_count": 6,
   "metadata": {},
   "outputs": [
    {
     "name": "stdout",
     "output_type": "stream",
     "text": [
      "-5\n",
      "5.6\n",
      "Hello world\n",
      "True\n",
      "<class 'int'>\n",
      "<class 'float'>\n",
      "<class 'str'>\n",
      "<class 'bool'>\n"
     ]
    }
   ],
   "source": [
    "intVar = -5\n",
    "floatVar = 5.6\n",
    "stringVar = \"Hello world\"\n",
    "boolVar = True\n",
    "print(intVar)\n",
    "print(floatVar)\n",
    "print(stringVar)\n",
    "print(boolVar)\n",
    "print(type(intVar))\n",
    "print(type(floatVar))\n",
    "print(type(stringVar))\n",
    "print(type(boolVar))"
   ]
  },
  {
   "cell_type": "code",
   "execution_count": 7,
   "metadata": {},
   "outputs": [
    {
     "name": "stdout",
     "output_type": "stream",
     "text": [
      "<class 'int'>\n",
      "<class 'str'>\n"
     ]
    }
   ],
   "source": [
    "intVar = 5\n",
    "print(type(intVar))\n",
    "strVar = str(intVar)\n",
    "print(type(strVar))"
   ]
  },
  {
   "cell_type": "markdown",
   "metadata": {},
   "source": [
    "==> Opérations, égalité et inégalité "
   ]
  },
  {
   "cell_type": "code",
   "execution_count": 12,
   "metadata": {},
   "outputs": [
    {
     "name": "stdout",
     "output_type": "stream",
     "text": [
      "5\n",
      "15\n",
      "63\n",
      "3.3333333333333335\n",
      "3\n",
      "1\n"
     ]
    }
   ],
   "source": [
    "#addition \n",
    "result = 2 + 3\n",
    "print(result)\n",
    "\n",
    "#soustraction \n",
    "result = 20 - 5\n",
    "print(result)\n",
    "\n",
    "#multiplication\n",
    "result = 9 * 7\n",
    "print(result)\n",
    "\n",
    "#division et modulo\n",
    "div = 10/3 # renvoie le quotient sous la forme d'un float (nombre réel)\n",
    "div2 = 10//3 # renvoie le quotient de la division sous forme d'un (nombre entier)\n",
    "modulo = 10%3 # renvoie le reste de la division\n",
    "print(div)\n",
    "print(div2)\n",
    "print(modulo)"
   ]
  },
  {
   "cell_type": "code",
   "execution_count": 13,
   "metadata": {},
   "outputs": [
    {
     "data": {
      "text/plain": [
       "False"
      ]
     },
     "execution_count": 13,
     "metadata": {},
     "output_type": "execute_result"
    }
   ],
   "source": [
    "#égalité \n",
    "a = 2\n",
    "b = 3\n",
    "a==b"
   ]
  },
  {
   "cell_type": "markdown",
   "metadata": {},
   "source": [
    "<h6> inégalité stricte </h6>"
   ]
  },
  {
   "cell_type": "code",
   "execution_count": 14,
   "metadata": {},
   "outputs": [
    {
     "data": {
      "text/plain": [
       "False"
      ]
     },
     "execution_count": 14,
     "metadata": {},
     "output_type": "execute_result"
    }
   ],
   "source": [
    "#supérieur à \n",
    "a >= b"
   ]
  },
  {
   "cell_type": "code",
   "execution_count": 15,
   "metadata": {},
   "outputs": [
    {
     "data": {
      "text/plain": [
       "True"
      ]
     },
     "execution_count": 15,
     "metadata": {},
     "output_type": "execute_result"
    }
   ],
   "source": [
    "#inférieur à \n",
    "a <= b"
   ]
  },
  {
   "cell_type": "markdown",
   "metadata": {},
   "source": [
    "<h6> inégalité large </h6>"
   ]
  },
  {
   "cell_type": "code",
   "execution_count": 16,
   "metadata": {},
   "outputs": [
    {
     "data": {
      "text/plain": [
       "True"
      ]
     },
     "execution_count": 16,
     "metadata": {},
     "output_type": "execute_result"
    }
   ],
   "source": [
    "#supérieur \n",
    "a < b"
   ]
  },
  {
   "cell_type": "code",
   "execution_count": 17,
   "metadata": {},
   "outputs": [
    {
     "data": {
      "text/plain": [
       "False"
      ]
     },
     "execution_count": 17,
     "metadata": {},
     "output_type": "execute_result"
    }
   ],
   "source": [
    "#inférieur\n",
    "a > b "
   ]
  },
  {
   "cell_type": "markdown",
   "metadata": {},
   "source": [
    "==> Manipuler des chaine de caractère "
   ]
  },
  {
   "cell_type": "code",
   "execution_count": 25,
   "metadata": {},
   "outputs": [
    {
     "name": "stdout",
     "output_type": "stream",
     "text": [
      "Helloworld\n",
      "Hello world\n",
      "HelloHello\n",
      "0\n",
      "1\n",
      "1\n"
     ]
    }
   ],
   "source": [
    "str1 = \"Hello\"\n",
    "str2 = \"world\"\n",
    "result_Str = str1 + str2 # Il n'y a pas d'espace entre les mots  \n",
    "print(result_Str)\n",
    "result_Str = str1 + \" \" + str2 # Ajouter un espace à une chaine de caratère \n",
    "print(result_Str)\n",
    "print(str1 * 2) # la multiplication des chaine de caractère est possible mais pas la division !!!\n",
    "\n",
    "# On peut aussi manipuler les chaines de booléan \n",
    "bool_1 = True\n",
    "bool_2 = False\n",
    "print(bool_1 * bool_2) # mais la division est impossible , cela renvoie une erreur \n",
    "\n",
    "bool_3 = True\n",
    "bool_4 = True\n",
    "print(bool_1 - bool_2)\n",
    "\n",
    "print(bool_1 + bool_2) "
   ]
  },
  {
   "cell_type": "markdown",
   "metadata": {},
   "source": [
    "Exercice : \n",
    "\n",
    "    Contexte : \n",
    "         John détient un compte titre avec des actions APPLE. L’action APPLE vaut actuellement 135 dollars l’unité. John a acheté 20 actions APPLE à 60 dollars l’unité, puis 10 actions APPLE à 145 dollars l’unité et enfin revendu 8 actions APPLE à 120 dollars l’unité. Il hésite à revendre ses actions APPLE restantes. Pour l’aider dans sa décision, il a notamment besoin de savoir de combien il sera taxé s’il vend ses actions restantes.\n",
    "\n",
    "    Questions :\n",
    "\n",
    "        1. Affichez la valeur en dollars des actions actuelles présentes sur le compte titre de John\n",
    "        2. Affichez le prix moyen d’achat de John pour ses actions APPLE\n",
    "        3. Affichez la plus-value totale de John s’il vendait toutes ses actions APPLE aujourd’hui.\n",
    "        4. John a la double nationalité belge et française, il peut choisir ou déclarer ses plus-values.     En France, il est taxé à hauteur de 30% des plus-values. En Belgique, il n’est pas taxé pour les 500 premiers dollars de plus-value, mais sur le reste, il est taxé à 40%. Affichez les taxes sur les plus-values si John paye ses taxes en France et s’il les paye en Belgique."
   ]
  },
  {
   "cell_type": "code",
   "execution_count": 26,
   "metadata": {},
   "outputs": [],
   "source": [
    "#Valeur actuelle d'une action\n",
    "actual_price = 135\n",
    "nbre_action60 = 20 \n",
    "nbre_action145 = 10 \n",
    "nbre_action_revendu = 8 \n",
    "france_tax = 0,3\n",
    "belgique_exemption = 500\n",
    "belgique_tax = 0,4 "
   ]
  },
  {
   "cell_type": "markdown",
   "metadata": {},
   "source": [
    "Affichez la valeur en dollars des actions actuelles présentes sur le compte titre de John"
   ]
  },
  {
   "cell_type": "code",
   "execution_count": 35,
   "metadata": {},
   "outputs": [
    {
     "name": "stdout",
     "output_type": "stream",
     "text": [
      "La valeur actuel du portefeuille est : $ 2970.00\n",
      "La rentabilité est de :  12.07547%\n"
     ]
    }
   ],
   "source": [
    "val_act = (nbre_action145 + nbre_action60 - nbre_action_revendu) * actual_price\n",
    "print(f\"La valeur actuel du portefeuille est : ${val_act: .2f}\")\n",
    "\n",
    "# Essayons de calculer la rentablité \n",
    "val_achat = (20 * 60) + (10 * 145)\n",
    "renta = ((val_act/val_achat) - 1) * 100 \n",
    "print(f\"La rentabilité est de : {renta: .5f}%\")"
   ]
  },
  {
   "cell_type": "markdown",
   "metadata": {},
   "source": [
    "Affichez le prix moyen d’achat de John pour ses actions APPLE"
   ]
  },
  {
   "cell_type": "code",
   "execution_count": 37,
   "metadata": {},
   "outputs": [
    {
     "name": "stdout",
     "output_type": "stream",
     "text": [
      "Le prix moyen est: $ 6.833\n"
     ]
    }
   ],
   "source": [
    "prix_moyen = (60 + 145)/(20 + 10)\n",
    "print(f\"Le prix moyen est: ${prix_moyen: .3f}\")"
   ]
  },
  {
   "cell_type": "markdown",
   "metadata": {},
   "source": [
    "Affichez la plus-value totale de John s’il vendait toutes ses actions APPLE aujourd’hui"
   ]
  },
  {
   "cell_type": "code",
   "execution_count": 41,
   "metadata": {},
   "outputs": [
    {
     "name": "stdout",
     "output_type": "stream",
     "text": [
      "Il possède : 22 actions\n",
      "Il a réalisé une plus value de : $ 320.00\n"
     ]
    }
   ],
   "source": [
    "# Calculons la plus value \n",
    "nbre_action = (nbre_action145 + nbre_action60 - nbre_action_revendu)\n",
    "print(f\"Il possède : {nbre_action} actions\")\n",
    "plus_value = val_act - val_achat\n",
    "print(f\"Il a réalisé une plus value de : ${plus_value: .2f}\")"
   ]
  },
  {
   "cell_type": "markdown",
   "metadata": {},
   "source": [
    "John a la double nationalité belge et française, il peut choisir ou déclarer ses plus-values. En France, il est taxé à hauteur de 30% des plus-values. En Belgique, il n’est pas taxé pour les 500 premiers dollars de plus-value, mais sur le reste, il est taxé à 40%. Affichez les taxes sur les plus-values si John paye ses taxes en France et s’il les paye en Belgique\n"
   ]
  },
  {
   "cell_type": "code",
   "execution_count": null,
   "metadata": {},
   "outputs": [],
   "source": []
  },
  {
   "cell_type": "markdown",
   "metadata": {},
   "source": [
    "<h1>Les boucles et les conditions </h1>"
   ]
  },
  {
   "cell_type": "markdown",
   "metadata": {},
   "source": [
    "Boucle \"For\""
   ]
  },
  {
   "cell_type": "code",
   "execution_count": 5,
   "metadata": {},
   "outputs": [
    {
     "name": "stdout",
     "output_type": "stream",
     "text": [
      "wallet actuel 1 : 3600\n",
      "wallet actuel 2 : 4700\n",
      "wallet actuel 3 : 5800\n",
      "wallet actuel 4 : 6900\n",
      "wallet actuel 5 : 8000\n",
      "wallet actuel 6 : 9100\n",
      "wallet actuel 7 : 10200\n",
      "wallet actuel 8 : 11300\n",
      "wallet actuel 9 : 12400\n",
      "wallet actuel 10 : 13500\n",
      "wallet actuel 11 : 14600\n",
      "wallet actuel 12 : 15700\n",
      "wallet à la fin du mois 15700\n"
     ]
    }
   ],
   "source": [
    "wallet = 2500 \n",
    "salaire = 1800\n",
    "facture = 700 \n",
    "\n",
    "for i in range(12): # la fonction range permet de renvoyer des nombre entre une valeur de début et \n",
    "                      # valeur de fin \n",
    "    wallet = wallet + salaire \n",
    "    wallet = wallet - facture \n",
    "    print(\"wallet actuel\",i + 1  , \":\" , wallet)\n",
    "\n",
    "print(\"wallet à la fin du mois\", wallet )"
   ]
  },
  {
   "cell_type": "markdown",
   "metadata": {},
   "source": [
    "Boucle \"While\" : elle s'utilise avec une condition "
   ]
  },
  {
   "cell_type": "code",
   "execution_count": 14,
   "metadata": {},
   "outputs": [
    {
     "name": "stdout",
     "output_type": "stream",
     "text": [
      "1 1050.0\n",
      "2 1102.5\n",
      "3 1157.625\n",
      "4 1215.5062500000001\n",
      "5 1276.2815625000003\n",
      "6 1340.0956406250004\n",
      "7 1407.1004226562504\n",
      "8 1477.455443789063\n",
      "9 1551.3282159785163\n",
      "10 1628.8946267774422\n",
      "11 1710.3393581163143\n",
      "12 1795.8563260221301\n",
      "13 1885.6491423232367\n",
      "14 1979.9315994393985\n",
      "15 2078.9281794113685\n",
      "il faut 15 années avant de doubler l'investissement\n"
     ]
    }
   ],
   "source": [
    "initial_wallet = 1000\n",
    "rate = 0.05\n",
    "years = 0 \n",
    "portefeuille_actuel = initial_wallet\n",
    "\n",
    "while portefeuille_actuel < 2 * initial_wallet :\n",
    "    portefeuille_actuel = portefeuille_actuel *(1 + rate)\n",
    "    years +=1\n",
    "    print(years, portefeuille_actuel)\n",
    "\n",
    "print(\"il faut\", years, \"années avant de doubler l'investissement\")"
   ]
  },
  {
   "cell_type": "code",
   "execution_count": 18,
   "metadata": {},
   "outputs": [
    {
     "name": "stdout",
     "output_type": "stream",
     "text": [
      "Vendre la moitié\n"
     ]
    }
   ],
   "source": [
    "#condition if\n",
    "\n",
    "share_price = 14999\n",
    "\n",
    "if share_price <= 9000 :\n",
    "    print(\"Acheter\")\n",
    "elif share_price > 10000 and share_price < 15000 :\n",
    "    print(\"Vendre la moitié\")\n",
    "elif share_price >= 15000:\n",
    "    print(\"Conserver\")\n",
    "else :\n",
    "    print(\"vendre la totalité\")"
   ]
  },
  {
   "cell_type": "code",
   "execution_count": 26,
   "metadata": {},
   "outputs": [
    {
     "name": "stdout",
     "output_type": "stream",
     "text": [
      "text is not Hello or Hi \n",
      "My condition is true\n"
     ]
    }
   ],
   "source": [
    "# condition IF avec des chaines de caractère et des valeurs booléennes\n",
    "\n",
    "text = \"whgfygyhsd\" # = est reserver à l' attribution de valeur \n",
    "if text == \"Hello\" or text == \"Hi\" : # != signifie égale à  \n",
    "    print(\"Hi, How are you\")\n",
    "elif text != \"Hello\":  # != signifie différent de \n",
    "    print(\"text is not Hello or Hi \")\n",
    "\n",
    "condition = True\n",
    "if condition is True :\n",
    "    print(\"My condition is true\")\n",
    "else:\n",
    "    print(\"My condition is false\")"
   ]
  },
  {
   "cell_type": "markdown",
   "metadata": {},
   "source": [
    "<h4>Exemple combinant boucles et conditions en Python</h4>\n",
    "\n",
    "Pour illustrer l'utilisation combinée des boucles et des conditions en Python, prenons un exemple où nous cherchons à déterminer combien de mois il vous faudra pour atteindre un objectif d'épargne, en tenant compte d'une augmentation possible de l'épargne mensuelle en fonction d'une promotion au travail.\n",
    "\n",
    "    Objectif d'épargne : 10 000 €\n",
    "    Épargne mensuelle actuelle : 400 €\n",
    "    Promotion prévue dans 6 mois\n",
    "    Augmentation de l'épargne mensuelle après promotion : 200 € (épargne mensuelle de 600 €)"
   ]
  },
  {
   "cell_type": "code",
   "execution_count": 40,
   "metadata": {},
   "outputs": [
    {
     "name": "stdout",
     "output_type": "stream",
     "text": [
      "1 400\n",
      "2 800\n",
      "3 1200\n",
      "4 1600\n",
      "5 2000\n",
      "6 2400\n",
      "7 3000\n",
      "8 3600\n",
      "9 4200\n",
      "10 4800\n",
      "11 5400\n",
      "12 6000\n",
      "13 6600\n",
      "14 7200\n",
      "15 7800\n",
      "16 8400\n",
      "17 9000\n",
      "18 9600\n",
      "19 10200\n",
      "10200\n"
     ]
    }
   ],
   "source": [
    "#Variables \n",
    "obj = 10000\n",
    "épargne = 400\n",
    "promo = 6\n",
    "\n",
    "mois = 0 \n",
    "épargne_act = 0 \n",
    "\n",
    "#Épargne \n",
    "while épargne_act < obj :\n",
    "    if mois >= promo: \n",
    "         épargne_act += 200\n",
    "   \n",
    "    épargne_act += épargne\n",
    "    mois += 1\n",
    "    print(mois, épargne_act)\n",
    "print(épargne_act)"
   ]
  },
  {
   "cell_type": "markdown",
   "metadata": {},
   "source": [
    "<h1>Les listes et les dictionnaires </h1>"
   ]
  },
  {
   "cell_type": "code",
   "execution_count": null,
   "metadata": {},
   "outputs": [],
   "source": []
  }
 ],
 "metadata": {
  "kernelspec": {
   "display_name": "env_finance",
   "language": "python",
   "name": "python3"
  },
  "language_info": {
   "codemirror_mode": {
    "name": "ipython",
    "version": 3
   },
   "file_extension": ".py",
   "mimetype": "text/x-python",
   "name": "python",
   "nbconvert_exporter": "python",
   "pygments_lexer": "ipython3",
   "version": "3.12.4"
  }
 },
 "nbformat": 4,
 "nbformat_minor": 2
}
