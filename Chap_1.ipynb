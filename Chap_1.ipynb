{
 "cells": [
  {
   "cell_type": "markdown",
   "metadata": {},
   "source": [
    "# Travailler avec des vecteurs, des matrices et des tableaux dans NumPy"
   ]
  },
  {
   "cell_type": "code",
   "execution_count": 2,
   "metadata": {},
   "outputs": [],
   "source": [
    "#Importer \n",
    "import numpy as np "
   ]
  },
  {
   "cell_type": "markdown",
   "metadata": {},
   "source": [
    "## INTRODUCTION \n",
    "\n",
    "NumPy est une bibliothèque python servant à manipuler les tableaux (Vecteurs, Matrices)\n",
    "\n",
    "### Créer un vecteur\n",
    "\n",
    "##### Le tableau multidimentionnel est la principale structure de données de NumPy, Les vecteurs sont des tableaux undimentionnels ==> Horizontaux ou verticaux "
   ]
  },
  {
   "cell_type": "markdown",
   "metadata": {},
   "source": []
  },
  {
   "cell_type": "code",
   "execution_count": 3,
   "metadata": {},
   "outputs": [
    {
     "name": "stdout",
     "output_type": "stream",
     "text": [
      "[1 2 3]\n",
      "[[1]\n",
      " [2]\n",
      " [3]]\n"
     ]
    }
   ],
   "source": [
    "#vecteur ligne \n",
    "vector_row = np.array([1,2,3])\n",
    "print(vector_row)\n",
    "#vecteur colonne\n",
    "vector_column = np.array([[1],\n",
    "                          [2],\n",
    "                          [3]])\n",
    "print(vector_column)"
   ]
  },
  {
   "cell_type": "markdown",
   "metadata": {},
   "source": [
    "[Tutoriel sur les vecteurs](https://www.mathsisfun.com/algebra/vectors.html)\n",
    "\n",
    "\n",
    "[Vecteur euclidien](https://fr.wikipedia.org/wiki/Vecteur_euclidien)"
   ]
  },
  {
   "cell_type": "markdown",
   "metadata": {},
   "source": [
    "### Créer une matrice "
   ]
  },
  {
   "cell_type": "code",
   "execution_count": 30,
   "metadata": {},
   "outputs": [
    {
     "name": "stdout",
     "output_type": "stream",
     "text": [
      "[[1 2]\n",
      " [1 2]\n",
      " [1 2]]\n"
     ]
    }
   ],
   "source": [
    "#Matrice normale\n",
    "matrix = np.array([[1,2],\n",
    "                   [1,2],\n",
    "                   [1,2]])\n",
    "print(matrix)"
   ]
  },
  {
   "cell_type": "markdown",
   "metadata": {},
   "source": [
    "### Créer une matrice creuse\n",
    "Une  matrice creuse permet de compresser les matrices avec beaucoup de zéros. \n",
    "\n",
    "Exemple Netflix !"
   ]
  },
  {
   "cell_type": "code",
   "execution_count": 31,
   "metadata": {},
   "outputs": [
    {
     "name": "stdout",
     "output_type": "stream",
     "text": [
      "<Compressed Sparse Row sparse matrix of dtype 'int64'\n",
      "\twith 2 stored elements and shape (3, 2)>\n",
      "  Coords\tValues\n",
      "  (1, 1)\t1\n",
      "  (2, 0)\t3\n"
     ]
    }
   ],
   "source": [
    "from scipy import sparse\n",
    "matrix_ = np.array([[0,0],\n",
    "                    [0,1],\n",
    "                    [3,0]])\n",
    "# créer une matrice creuse\n",
    "matrix_sparse = sparse.csr_matrix(matrix_)\n",
    "print(matrix_sparse)"
   ]
  },
  {
   "cell_type": "code",
   "execution_count": 32,
   "metadata": {},
   "outputs": [
    {
     "name": "stdout",
     "output_type": "stream",
     "text": [
      "<Compressed Sparse Row sparse matrix of dtype 'int64'\n",
      "\twith 2 stored elements and shape (3, 6)>\n",
      "  Coords\tValues\n",
      "  (1, 4)\t1\n",
      "  (2, 0)\t3\n"
     ]
    }
   ],
   "source": [
    "#Nouvelle matrice creuse\n",
    "matrix_3_6 = np.array([[0,0,0,0,0,0],\n",
    "                       [0,0,0,0,1,0],\n",
    "                       [3,0,0,0,0,0]])\n",
    "matrix_sparse_3_6 = sparse.csr_matrix(matrix_3_6)\n",
    "print(matrix_sparse_3_6)"
   ]
  },
  {
   "cell_type": "markdown",
   "metadata": {},
   "source": [
    "### Préallouer des tableaux NumPy\n",
    "Créer une matrice rempli de 0 ou de 1 ou de n'importe quel nombre"
   ]
  },
  {
   "cell_type": "code",
   "execution_count": 36,
   "metadata": {},
   "outputs": [
    {
     "name": "stdout",
     "output_type": "stream",
     "text": [
      "[[0.]\n",
      " [0.]\n",
      " [0.]]\n",
      "[[1.]\n",
      " [1.]\n",
      " [1.]]\n",
      "[[100]\n",
      " [100]\n",
      " [100]]\n"
     ]
    }
   ],
   "source": [
    "vecteur_0 = np.zeros(shape=(3,1))\n",
    "print(vecteur_0)\n",
    "vecteur_1 = np.ones(shape=(3,1))\n",
    "print(vecteur_1)\n",
    "vect = np.full((3,1),100)\n",
    "print(vect)"
   ]
  },
  {
   "cell_type": "markdown",
   "metadata": {},
   "source": [
    "### Sélectionner des éléments\n",
    "###### Pour les index, le 1er élément porte l'index 0 et ainsi de suite..."
   ]
  },
  {
   "cell_type": "code",
   "execution_count": 37,
   "metadata": {},
   "outputs": [
    {
     "name": "stdout",
     "output_type": "stream",
     "text": [
      "3\n",
      "5\n"
     ]
    }
   ],
   "source": [
    "#créer un vecteur ligne \n",
    "vector = np.array([1,2,3,4,5,6])\n",
    "#Créer une matrice\n",
    "matrix_5 = np.array([[1,2,3],\n",
    "                     [4,5,6],\n",
    "                     [7,8,9]])\n",
    "print(vector[2])\n",
    "print(matrix_5[1,1])"
   ]
  },
  {
   "cell_type": "code",
   "execution_count": 38,
   "metadata": {},
   "outputs": [
    {
     "name": "stdout",
     "output_type": "stream",
     "text": [
      "[1 2 3 4 5 6]\n",
      "[1 2 3]\n",
      "[4 5 6]\n",
      "6\n",
      "[6 5 4 3 2 1]\n"
     ]
    }
   ],
   "source": [
    "# Sélectionner tous les éléments d'un vecteur\n",
    "print(vector[ :])\n",
    "# Sélectionner la totalité jusqu'au 3e élément inclu\n",
    "print(vector[ :3])\n",
    "# Sélectionner tous ce qui est le 3e élément \n",
    "print(vector[3 :])\n",
    "# Sélectionner le dernier élément\n",
    "print(vector[-1])\n",
    "# Inversion du vecteur\n",
    "print(vector[ ::-1])"
   ]
  },
  {
   "cell_type": "code",
   "execution_count": 39,
   "metadata": {},
   "outputs": [
    {
     "name": "stdout",
     "output_type": "stream",
     "text": [
      "[[1 2 3]\n",
      " [4 5 6]]\n",
      "[[2]\n",
      " [5]\n",
      " [8]]\n"
     ]
    }
   ],
   "source": [
    "# Sélectionner les 2 premières lignes et toutes les colonnes d'une matrice \n",
    "print(matrix_5[:2, :])\n",
    "# Sélectionner toutes les lignes et la 2e colonne\n",
    "print(matrix_5[ :, 1:2])"
   ]
  },
  {
   "cell_type": "markdown",
   "metadata": {},
   "source": [
    "### Décrire une matrice \n",
    "###### Trouver la forme, la taile et la dimension d'une matrice "
   ]
  },
  {
   "cell_type": "code",
   "execution_count": 40,
   "metadata": {},
   "outputs": [
    {
     "name": "stdout",
     "output_type": "stream",
     "text": [
      "(3, 4)\n",
      "12\n",
      "2\n"
     ]
    }
   ],
   "source": [
    "#Création d'une matrice \n",
    "matrix_6 = np.array([[1,2,3,4],\n",
    "                     [5,6,7,8],\n",
    "                     [9,10,11,12]])\n",
    "\n",
    "#Nombre de ligne et de colonnes \n",
    "print(matrix_6.shape)\n",
    "#Nombre d'éléments\n",
    "print(matrix_6.size)\n",
    "#Nombre de dimension \n",
    "print(matrix_6.ndim)"
   ]
  },
  {
   "cell_type": "markdown",
   "metadata": {},
   "source": [
    "### Appliquer des fonctions à chaque élément "
   ]
  },
  {
   "cell_type": "code",
   "execution_count": 19,
   "metadata": {},
   "outputs": [
    {
     "data": {
      "text/plain": [
       "array([[3463, 3464, 3465],\n",
       "       [3466, 3467, 3468],\n",
       "       [3469, 3470, 3471]])"
      ]
     },
     "execution_count": 19,
     "metadata": {},
     "output_type": "execute_result"
    }
   ],
   "source": [
    "# Créer une fonction qui ajoute 3462 à qqch \n",
    "add_3462 = lambda i : i + 3462 \n",
    "# Créer une fonction vectorisée\n",
    "vectorized_add_3462 = np.vectorize(add_3462)\n",
    "#Application de la fonction à tous les éléments de la matrice\n",
    "vectorized_add_3462(matrix_5)"
   ]
  },
  {
   "cell_type": "code",
   "execution_count": 20,
   "metadata": {},
   "outputs": [
    {
     "data": {
      "text/plain": [
       "array([[3463, 3464, 3465],\n",
       "       [3466, 3467, 3468],\n",
       "       [3469, 3470, 3471]])"
      ]
     },
     "execution_count": 20,
     "metadata": {},
     "output_type": "execute_result"
    }
   ],
   "source": [
    "# On aurais pu simplement faire \n",
    "matrix_5 + 3462"
   ]
  },
  {
   "cell_type": "markdown",
   "metadata": {},
   "source": [
    "### Rechercher les valeurs maximales et minimales "
   ]
  },
  {
   "cell_type": "code",
   "execution_count": 21,
   "metadata": {},
   "outputs": [
    {
     "name": "stdout",
     "output_type": "stream",
     "text": [
      "9\n",
      "1\n"
     ]
    }
   ],
   "source": [
    "#Maximum \n",
    "print(np.max(matrix_5))\n",
    "#Minimale\n",
    "print(np.min(matrix_5))"
   ]
  },
  {
   "cell_type": "code",
   "execution_count": 22,
   "metadata": {},
   "outputs": [
    {
     "name": "stdout",
     "output_type": "stream",
     "text": [
      "[7 8 9]\n",
      "[3 6 9]\n"
     ]
    }
   ],
   "source": [
    "#Maximum de chaque colonne\n",
    "print(np.max(matrix_5, axis=0))\n",
    "#Minimum de chaque ligne \n",
    "print(np.max(matrix_5, axis=1))"
   ]
  },
  {
   "cell_type": "markdown",
   "metadata": {},
   "source": [
    "### Calculer la moyenne, la variance et l'écart-type"
   ]
  },
  {
   "cell_type": "code",
   "execution_count": 23,
   "metadata": {},
   "outputs": [
    {
     "name": "stdout",
     "output_type": "stream",
     "text": [
      "5.0\n",
      "6.666666666666667\n",
      "2.581988897471611\n"
     ]
    }
   ],
   "source": [
    "#La moyenne \n",
    "print(np.mean(matrix_5))\n",
    "#La variance \n",
    "print(np.var(matrix_5))\n",
    "#L'écart-type\n",
    "print(np.std(matrix_5))"
   ]
  },
  {
   "cell_type": "markdown",
   "metadata": {},
   "source": [
    "###### On peut aussi le faire un seul axe "
   ]
  },
  {
   "cell_type": "code",
   "execution_count": 24,
   "metadata": {},
   "outputs": [
    {
     "name": "stdout",
     "output_type": "stream",
     "text": [
      "[4. 5. 6.]\n"
     ]
    }
   ],
   "source": [
    "print(np.mean(matrix_5, axis=0))"
   ]
  },
  {
   "cell_type": "markdown",
   "metadata": {},
   "source": [
    "### Modifier la forme d'un tableau"
   ]
  },
  {
   "cell_type": "code",
   "execution_count": null,
   "metadata": {},
   "outputs": [
    {
     "name": "stdout",
     "output_type": "stream",
     "text": [
      "[[ 1  2  3  4]\n",
      " [ 5  6  7  8]\n",
      " [ 9 10 11 12]]\n",
      "[[ 1  2  3  4  5  6]\n",
      " [ 7  8  9 10 11 12]]\n",
      "[[ 1  2  3  4  5  6  7  8  9 10 11 12]]\n",
      "[[ 1]\n",
      " [ 2]\n",
      " [ 3]\n",
      " [ 4]\n",
      " [ 5]\n",
      " [ 6]\n",
      " [ 7]\n",
      " [ 8]\n",
      " [ 9]\n",
      " [10]\n",
      " [11]\n",
      " [12]]\n"
     ]
    }
   ],
   "source": [
    "# Matrice 4*3\n",
    "print(matrix_6)\n",
    "# tranformée en matrice 2*6\n",
    "print(matrix_6.reshape(2,6))\n",
    "# reshape(1,-1) transforme en vecteur ligne\n",
    "print(matrix_6.reshape(1,-1))\n",
    "# reshape(-1,1) transforme en vecteur colonne\n",
    "print(matrix_6.reshape(-1,1))\n",
    "# reshape avec un nombre supérieur au nombre d'éléments renvoie une erreur"
   ]
  },
  {
   "cell_type": "markdown",
   "metadata": {},
   "source": [
    "#### Transposé un vecteur ou matrice \n",
    "les vecteurs ne sont pas transposable "
   ]
  },
  {
   "cell_type": "code",
   "execution_count": 47,
   "metadata": {},
   "outputs": [
    {
     "name": "stdout",
     "output_type": "stream",
     "text": [
      "[[ 1  5  9]\n",
      " [ 2  6 10]\n",
      " [ 3  7 11]\n",
      " [ 4  8 12]]\n"
     ]
    }
   ],
   "source": [
    "# Transposer une matrice\n",
    "print(matrix_6.T)"
   ]
  },
  {
   "cell_type": "markdown",
   "metadata": {},
   "source": [
    "Inversion de vecteur : On utilise un double crochets "
   ]
  },
  {
   "cell_type": "code",
   "execution_count": 49,
   "metadata": {},
   "outputs": [
    {
     "data": {
      "text/plain": [
       "array([[1],\n",
       "       [2],\n",
       "       [3],\n",
       "       [4],\n",
       "       [5],\n",
       "       [6]])"
      ]
     },
     "execution_count": 49,
     "metadata": {},
     "output_type": "execute_result"
    }
   ],
   "source": [
    "np.array([[1,2,3,4,5,6]]).T"
   ]
  },
  {
   "cell_type": "markdown",
   "metadata": {},
   "source": [
    "#### Aplatir une matrice "
   ]
  },
  {
   "cell_type": "code",
   "execution_count": null,
   "metadata": {},
   "outputs": [
    {
     "name": "stdout",
     "output_type": "stream",
     "text": [
      "[ 1  2  3  4  5  6  7  8  9 10 11 12 13 14 15]\n",
      "[ 1  2  3  4  5  6  7  8  9 10 11 12 13 14 15]\n",
      "[[ 1  2  3  4  5  6  7  8  9 10 11 12 13 14 15]]\n",
      "[[ 1  2  3  4  5]\n",
      " [ 6  7  8  9 10]\n",
      " [11 12 13 14 15]]\n"
     ]
    }
   ],
   "source": [
    "# Créer une matrice 3*5 \n",
    "matrix_7 = np.array([[1,2,3,4,5],\n",
    "                     [6,7,8,9,10],\n",
    "                     [11,12,13,14,15]])\n",
    "# Aplatir avec ravel\n",
    "print(matrix_7.ravel())\n",
    "# Aplatir avec flatten\n",
    "print(matrix_7.flatten())\n",
    "# Aplatir avec reshape\n",
    "print(matrix_7.reshape(1,-1))"
   ]
  },
  {
   "cell_type": "markdown",
   "metadata": {},
   "source": [
    "#### Le rang d'une matrice\n",
    "Le rang d'une matrice est la dimension de l'espace vectoriel couvert par ses colonnes et ses lignes"
   ]
  },
  {
   "cell_type": "code",
   "execution_count": 52,
   "metadata": {},
   "outputs": [
    {
     "data": {
      "text/plain": [
       "np.int64(2)"
      ]
     },
     "execution_count": 52,
     "metadata": {},
     "output_type": "execute_result"
    }
   ],
   "source": [
    "np.linalg.matrix_rank(matrix_7)"
   ]
  },
  {
   "cell_type": "markdown",
   "metadata": {},
   "source": [
    "#### La diagonale d'une matrice "
   ]
  },
  {
   "cell_type": "code",
   "execution_count": 56,
   "metadata": {},
   "outputs": [
    {
     "name": "stdout",
     "output_type": "stream",
     "text": [
      "[[1 2 3]\n",
      " [4 5 6]\n",
      " [7 8 9]]\n",
      "[1 5 9]\n",
      "[2 6]\n",
      "[4 8]\n"
     ]
    }
   ],
   "source": [
    "print(matrix_5)\n",
    "#la diagonale principale\n",
    "print(matrix_5.diagonal())\n",
    "#la diagonale au dessus de la diagonale principale\n",
    "print(matrix_5.diagonal(offset=1))\n",
    "#la diagonale en dessous de la diagonale principale\n",
    "print(matrix_5.diagonal(offset=-1))"
   ]
  },
  {
   "cell_type": "markdown",
   "metadata": {},
   "source": []
  }
 ],
 "metadata": {
  "kernelspec": {
   "display_name": "env_finance",
   "language": "python",
   "name": "python3"
  },
  "language_info": {
   "codemirror_mode": {
    "name": "ipython",
    "version": 3
   },
   "file_extension": ".py",
   "mimetype": "text/x-python",
   "name": "python",
   "nbconvert_exporter": "python",
   "pygments_lexer": "ipython3",
   "version": "3.12.4"
  }
 },
 "nbformat": 4,
 "nbformat_minor": 2
}
