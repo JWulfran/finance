{
 "cells": [
  {
   "cell_type": "code",
   "execution_count": 1,
   "metadata": {},
   "outputs": [],
   "source": [
    "#importer les bibliothèques\n",
    "import pandas as pd\n",
    "import numpy as np\n",
    "import yfinance as yf\n",
    "import matplotlib.pyplot as plt \n",
    "import datetime as dt \n",
    "import seaborn as sns"
   ]
  },
  {
   "cell_type": "markdown",
   "metadata": {},
   "source": [
    "<h1>Partie 1 : A faire en Excel (Pas en VBA)</h1>\n",
    "1.(20 points) Allez sur Yahoo ! finance et téléchargez en Excel les prix mensuels\n",
    "de clôture ajustés (”Adj Close”) pour la période du 1 août 2014 au 1 août 2019 pour\n",
    "les titres suivants : Microsoft Corporation (MSFT), Apple Inc.(AAPL) et l’indice\n",
    "S&P 500 (ˆGSPC). Téléchargez aussi le taux de rendement de l’obligation du Trésor\n",
    "américain ”13 Week Treasury Bill” (ˆIRX) que nous utiliserons pour représenter le\n",
    "placement sans risque.\n",
    "\n",
    "Attention : l’accent circonflexe précède GSPC et IRX. Vous devriez avoir 61 prix\n",
    "pour chacun des titres risqués et 61 taux pour l’obligation. Répondez aux questions\n",
    "suivantes à l’aide d’Excel :"
   ]
  },
  {
   "cell_type": "markdown",
   "metadata": {},
   "source": [
    "a) Calculez les rendements simples mensuels pour chacun des 3 titres risqués\n",
    "(MSFT, AAPL, GSPC) et faites des graphiques de leurs évolutions temporelles\n",
    "sur la période de cinq ans."
   ]
  },
  {
   "cell_type": "code",
   "execution_count": 2,
   "metadata": {},
   "outputs": [],
   "source": [
    "#les dates de début et de fin \n",
    "start_date = \"2014-08-01\"\n",
    "end_date = \"2019-08-01\"\n",
    "\n",
    "#importer les données \n",
    "price = pd.DataFrame()\n",
    "\n",
    "titre = [\"MSFT\", \"AAPL\", \"^GSPC\", \"IRX\"]\n",
    "for stock in titre:\n",
    "    ticker = yf.Ticker(stock)\n",
    "    price[stock] = ticker.history(start = start_date, end = end_date, interval = \"1mo\")[\"Close\"]\n"
   ]
  },
  {
   "cell_type": "code",
   "execution_count": 3,
   "metadata": {},
   "outputs": [
    {
     "data": {
      "text/html": [
       "<div>\n",
       "<style scoped>\n",
       "    .dataframe tbody tr th:only-of-type {\n",
       "        vertical-align: middle;\n",
       "    }\n",
       "\n",
       "    .dataframe tbody tr th {\n",
       "        vertical-align: top;\n",
       "    }\n",
       "\n",
       "    .dataframe thead th {\n",
       "        text-align: right;\n",
       "    }\n",
       "</style>\n",
       "<table border=\"1\" class=\"dataframe\">\n",
       "  <thead>\n",
       "    <tr style=\"text-align: right;\">\n",
       "      <th></th>\n",
       "      <th>MSFT</th>\n",
       "      <th>AAPL</th>\n",
       "      <th>^GSPC</th>\n",
       "      <th>IRX</th>\n",
       "    </tr>\n",
       "    <tr>\n",
       "      <th>Date</th>\n",
       "      <th></th>\n",
       "      <th></th>\n",
       "      <th></th>\n",
       "      <th></th>\n",
       "    </tr>\n",
       "  </thead>\n",
       "  <tbody>\n",
       "    <tr>\n",
       "      <th>2014-08-01 00:00:00-04:00</th>\n",
       "      <td>38.602406</td>\n",
       "      <td>22.640009</td>\n",
       "      <td>2003.369995</td>\n",
       "      <td>0.054</td>\n",
       "    </tr>\n",
       "    <tr>\n",
       "      <th>2014-09-01 00:00:00-04:00</th>\n",
       "      <td>39.638680</td>\n",
       "      <td>22.364162</td>\n",
       "      <td>1972.290039</td>\n",
       "      <td>0.051</td>\n",
       "    </tr>\n",
       "    <tr>\n",
       "      <th>2014-10-01 00:00:00-04:00</th>\n",
       "      <td>40.143139</td>\n",
       "      <td>23.973495</td>\n",
       "      <td>2018.050049</td>\n",
       "      <td>0.051</td>\n",
       "    </tr>\n",
       "    <tr>\n",
       "      <th>2014-11-01 00:00:00-04:00</th>\n",
       "      <td>40.878456</td>\n",
       "      <td>26.399706</td>\n",
       "      <td>2067.560059</td>\n",
       "      <td>0.051</td>\n",
       "    </tr>\n",
       "    <tr>\n",
       "      <th>2014-12-01 00:00:00-05:00</th>\n",
       "      <td>39.966129</td>\n",
       "      <td>24.608046</td>\n",
       "      <td>2058.899902</td>\n",
       "      <td>0.038</td>\n",
       "    </tr>\n",
       "    <tr>\n",
       "      <th>2015-01-01 00:00:00-05:00</th>\n",
       "      <td>34.760632</td>\n",
       "      <td>26.119572</td>\n",
       "      <td>1994.989990</td>\n",
       "      <td>0.060</td>\n",
       "    </tr>\n",
       "    <tr>\n",
       "      <th>2015-02-01 00:00:00-05:00</th>\n",
       "      <td>37.729057</td>\n",
       "      <td>28.638788</td>\n",
       "      <td>2104.500000</td>\n",
       "      <td>0.083</td>\n",
       "    </tr>\n",
       "    <tr>\n",
       "      <th>2015-03-01 00:00:00-05:00</th>\n",
       "      <td>35.233315</td>\n",
       "      <td>27.849825</td>\n",
       "      <td>2067.889893</td>\n",
       "      <td>0.084</td>\n",
       "    </tr>\n",
       "    <tr>\n",
       "      <th>2015-04-01 00:00:00-04:00</th>\n",
       "      <td>42.148258</td>\n",
       "      <td>28.010979</td>\n",
       "      <td>2085.510010</td>\n",
       "      <td>NaN</td>\n",
       "    </tr>\n",
       "    <tr>\n",
       "      <th>2015-05-01 00:00:00-04:00</th>\n",
       "      <td>40.605839</td>\n",
       "      <td>29.159170</td>\n",
       "      <td>2107.389893</td>\n",
       "      <td>NaN</td>\n",
       "    </tr>\n",
       "    <tr>\n",
       "      <th>2015-06-01 00:00:00-04:00</th>\n",
       "      <td>38.506157</td>\n",
       "      <td>28.190907</td>\n",
       "      <td>2063.110107</td>\n",
       "      <td>NaN</td>\n",
       "    </tr>\n",
       "    <tr>\n",
       "      <th>2015-07-01 00:00:00-04:00</th>\n",
       "      <td>40.730183</td>\n",
       "      <td>27.262674</td>\n",
       "      <td>2103.840088</td>\n",
       "      <td>NaN</td>\n",
       "    </tr>\n",
       "    <tr>\n",
       "      <th>2015-08-01 00:00:00-04:00</th>\n",
       "      <td>37.956688</td>\n",
       "      <td>25.343275</td>\n",
       "      <td>1972.180054</td>\n",
       "      <td>NaN</td>\n",
       "    </tr>\n",
       "    <tr>\n",
       "      <th>2015-09-01 00:00:00-04:00</th>\n",
       "      <td>38.856659</td>\n",
       "      <td>24.902588</td>\n",
       "      <td>1920.030029</td>\n",
       "      <td>NaN</td>\n",
       "    </tr>\n",
       "    <tr>\n",
       "      <th>2015-10-01 00:00:00-04:00</th>\n",
       "      <td>46.213600</td>\n",
       "      <td>26.979689</td>\n",
       "      <td>2079.360107</td>\n",
       "      <td>NaN</td>\n",
       "    </tr>\n",
       "    <tr>\n",
       "      <th>2015-11-01 00:00:00-04:00</th>\n",
       "      <td>47.714832</td>\n",
       "      <td>26.708759</td>\n",
       "      <td>2080.409912</td>\n",
       "      <td>NaN</td>\n",
       "    </tr>\n",
       "    <tr>\n",
       "      <th>2015-12-01 00:00:00-05:00</th>\n",
       "      <td>49.035183</td>\n",
       "      <td>23.866430</td>\n",
       "      <td>2043.939941</td>\n",
       "      <td>NaN</td>\n",
       "    </tr>\n",
       "    <tr>\n",
       "      <th>2016-01-01 00:00:00-05:00</th>\n",
       "      <td>48.690479</td>\n",
       "      <td>22.070665</td>\n",
       "      <td>1940.239990</td>\n",
       "      <td>NaN</td>\n",
       "    </tr>\n",
       "    <tr>\n",
       "      <th>2016-02-01 00:00:00-05:00</th>\n",
       "      <td>44.969543</td>\n",
       "      <td>21.923283</td>\n",
       "      <td>1932.229980</td>\n",
       "      <td>NaN</td>\n",
       "    </tr>\n",
       "    <tr>\n",
       "      <th>2016-03-01 00:00:00-05:00</th>\n",
       "      <td>49.164707</td>\n",
       "      <td>24.846258</td>\n",
       "      <td>2059.739990</td>\n",
       "      <td>NaN</td>\n",
       "    </tr>\n",
       "    <tr>\n",
       "      <th>2016-04-01 00:00:00-04:00</th>\n",
       "      <td>44.393337</td>\n",
       "      <td>21.369738</td>\n",
       "      <td>2065.300049</td>\n",
       "      <td>NaN</td>\n",
       "    </tr>\n",
       "    <tr>\n",
       "      <th>2016-05-01 00:00:00-04:00</th>\n",
       "      <td>47.179596</td>\n",
       "      <td>22.764900</td>\n",
       "      <td>2096.949951</td>\n",
       "      <td>NaN</td>\n",
       "    </tr>\n",
       "    <tr>\n",
       "      <th>2016-06-01 00:00:00-04:00</th>\n",
       "      <td>45.869175</td>\n",
       "      <td>21.926447</td>\n",
       "      <td>2098.860107</td>\n",
       "      <td>NaN</td>\n",
       "    </tr>\n",
       "    <tr>\n",
       "      <th>2016-07-01 00:00:00-04:00</th>\n",
       "      <td>50.808376</td>\n",
       "      <td>23.901207</td>\n",
       "      <td>2173.600098</td>\n",
       "      <td>NaN</td>\n",
       "    </tr>\n",
       "    <tr>\n",
       "      <th>2016-08-01 00:00:00-04:00</th>\n",
       "      <td>51.507572</td>\n",
       "      <td>24.334684</td>\n",
       "      <td>2170.949951</td>\n",
       "      <td>NaN</td>\n",
       "    </tr>\n",
       "    <tr>\n",
       "      <th>2016-09-01 00:00:00-04:00</th>\n",
       "      <td>51.954887</td>\n",
       "      <td>26.069172</td>\n",
       "      <td>2168.270020</td>\n",
       "      <td>NaN</td>\n",
       "    </tr>\n",
       "    <tr>\n",
       "      <th>2016-10-01 00:00:00-04:00</th>\n",
       "      <td>54.047504</td>\n",
       "      <td>26.182173</td>\n",
       "      <td>2126.149902</td>\n",
       "      <td>NaN</td>\n",
       "    </tr>\n",
       "    <tr>\n",
       "      <th>2016-11-01 00:00:00-04:00</th>\n",
       "      <td>54.354191</td>\n",
       "      <td>25.485760</td>\n",
       "      <td>2198.810059</td>\n",
       "      <td>NaN</td>\n",
       "    </tr>\n",
       "    <tr>\n",
       "      <th>2016-12-01 00:00:00-05:00</th>\n",
       "      <td>56.428585</td>\n",
       "      <td>26.845060</td>\n",
       "      <td>2238.830078</td>\n",
       "      <td>NaN</td>\n",
       "    </tr>\n",
       "    <tr>\n",
       "      <th>2017-01-01 00:00:00-05:00</th>\n",
       "      <td>58.707886</td>\n",
       "      <td>28.126820</td>\n",
       "      <td>2278.870117</td>\n",
       "      <td>NaN</td>\n",
       "    </tr>\n",
       "    <tr>\n",
       "      <th>2017-02-01 00:00:00-05:00</th>\n",
       "      <td>58.099468</td>\n",
       "      <td>31.751900</td>\n",
       "      <td>2363.639893</td>\n",
       "      <td>NaN</td>\n",
       "    </tr>\n",
       "    <tr>\n",
       "      <th>2017-03-01 00:00:00-05:00</th>\n",
       "      <td>60.169243</td>\n",
       "      <td>33.442249</td>\n",
       "      <td>2362.719971</td>\n",
       "      <td>NaN</td>\n",
       "    </tr>\n",
       "    <tr>\n",
       "      <th>2017-04-01 00:00:00-04:00</th>\n",
       "      <td>62.544579</td>\n",
       "      <td>33.439922</td>\n",
       "      <td>2384.199951</td>\n",
       "      <td>NaN</td>\n",
       "    </tr>\n",
       "    <tr>\n",
       "      <th>2017-05-01 00:00:00-04:00</th>\n",
       "      <td>63.805340</td>\n",
       "      <td>35.560619</td>\n",
       "      <td>2411.800049</td>\n",
       "      <td>NaN</td>\n",
       "    </tr>\n",
       "    <tr>\n",
       "      <th>2017-06-01 00:00:00-04:00</th>\n",
       "      <td>63.334946</td>\n",
       "      <td>33.664440</td>\n",
       "      <td>2423.409912</td>\n",
       "      <td>NaN</td>\n",
       "    </tr>\n",
       "    <tr>\n",
       "      <th>2017-07-01 00:00:00-04:00</th>\n",
       "      <td>66.798927</td>\n",
       "      <td>34.765396</td>\n",
       "      <td>2470.300049</td>\n",
       "      <td>NaN</td>\n",
       "    </tr>\n",
       "    <tr>\n",
       "      <th>2017-08-01 00:00:00-04:00</th>\n",
       "      <td>68.700897</td>\n",
       "      <td>38.334732</td>\n",
       "      <td>2471.649902</td>\n",
       "      <td>NaN</td>\n",
       "    </tr>\n",
       "    <tr>\n",
       "      <th>2017-09-01 00:00:00-04:00</th>\n",
       "      <td>68.808304</td>\n",
       "      <td>36.166771</td>\n",
       "      <td>2519.360107</td>\n",
       "      <td>NaN</td>\n",
       "    </tr>\n",
       "    <tr>\n",
       "      <th>2017-10-01 00:00:00-04:00</th>\n",
       "      <td>76.835480</td>\n",
       "      <td>39.667988</td>\n",
       "      <td>2575.260010</td>\n",
       "      <td>NaN</td>\n",
       "    </tr>\n",
       "    <tr>\n",
       "      <th>2017-11-01 00:00:00-04:00</th>\n",
       "      <td>77.749947</td>\n",
       "      <td>40.327400</td>\n",
       "      <td>2647.580078</td>\n",
       "      <td>NaN</td>\n",
       "    </tr>\n",
       "    <tr>\n",
       "      <th>2017-12-01 00:00:00-05:00</th>\n",
       "      <td>79.412277</td>\n",
       "      <td>39.855331</td>\n",
       "      <td>2673.610107</td>\n",
       "      <td>NaN</td>\n",
       "    </tr>\n",
       "    <tr>\n",
       "      <th>2018-01-01 00:00:00-05:00</th>\n",
       "      <td>88.203896</td>\n",
       "      <td>39.431408</td>\n",
       "      <td>2823.810059</td>\n",
       "      <td>NaN</td>\n",
       "    </tr>\n",
       "    <tr>\n",
       "      <th>2018-02-01 00:00:00-05:00</th>\n",
       "      <td>87.052704</td>\n",
       "      <td>41.949005</td>\n",
       "      <td>2713.830078</td>\n",
       "      <td>NaN</td>\n",
       "    </tr>\n",
       "    <tr>\n",
       "      <th>2018-03-01 00:00:00-05:00</th>\n",
       "      <td>85.129837</td>\n",
       "      <td>39.674938</td>\n",
       "      <td>2640.870117</td>\n",
       "      <td>NaN</td>\n",
       "    </tr>\n",
       "    <tr>\n",
       "      <th>2018-04-01 00:00:00-04:00</th>\n",
       "      <td>87.228477</td>\n",
       "      <td>39.079048</td>\n",
       "      <td>2648.050049</td>\n",
       "      <td>NaN</td>\n",
       "    </tr>\n",
       "    <tr>\n",
       "      <th>2018-05-01 00:00:00-04:00</th>\n",
       "      <td>92.190559</td>\n",
       "      <td>44.189171</td>\n",
       "      <td>2705.270020</td>\n",
       "      <td>NaN</td>\n",
       "    </tr>\n",
       "    <tr>\n",
       "      <th>2018-06-01 00:00:00-04:00</th>\n",
       "      <td>92.374718</td>\n",
       "      <td>43.941757</td>\n",
       "      <td>2718.370117</td>\n",
       "      <td>NaN</td>\n",
       "    </tr>\n",
       "    <tr>\n",
       "      <th>2018-07-01 00:00:00-04:00</th>\n",
       "      <td>99.372353</td>\n",
       "      <td>45.171406</td>\n",
       "      <td>2816.290039</td>\n",
       "      <td>NaN</td>\n",
       "    </tr>\n",
       "    <tr>\n",
       "      <th>2018-08-01 00:00:00-04:00</th>\n",
       "      <td>105.227150</td>\n",
       "      <td>54.035252</td>\n",
       "      <td>2901.520020</td>\n",
       "      <td>NaN</td>\n",
       "    </tr>\n",
       "    <tr>\n",
       "      <th>2018-09-01 00:00:00-04:00</th>\n",
       "      <td>107.550461</td>\n",
       "      <td>53.774532</td>\n",
       "      <td>2913.979980</td>\n",
       "      <td>NaN</td>\n",
       "    </tr>\n",
       "    <tr>\n",
       "      <th>2018-10-01 00:00:00-04:00</th>\n",
       "      <td>100.441261</td>\n",
       "      <td>52.135620</td>\n",
       "      <td>2711.739990</td>\n",
       "      <td>NaN</td>\n",
       "    </tr>\n",
       "    <tr>\n",
       "      <th>2018-11-01 00:00:00-04:00</th>\n",
       "      <td>104.277954</td>\n",
       "      <td>42.540340</td>\n",
       "      <td>2760.169922</td>\n",
       "      <td>NaN</td>\n",
       "    </tr>\n",
       "    <tr>\n",
       "      <th>2018-12-01 00:00:00-05:00</th>\n",
       "      <td>95.926300</td>\n",
       "      <td>37.707058</td>\n",
       "      <td>2506.850098</td>\n",
       "      <td>NaN</td>\n",
       "    </tr>\n",
       "    <tr>\n",
       "      <th>2019-01-01 00:00:00-05:00</th>\n",
       "      <td>98.627388</td>\n",
       "      <td>39.786751</td>\n",
       "      <td>2704.100098</td>\n",
       "      <td>NaN</td>\n",
       "    </tr>\n",
       "    <tr>\n",
       "      <th>2019-02-01 00:00:00-05:00</th>\n",
       "      <td>105.805122</td>\n",
       "      <td>41.390739</td>\n",
       "      <td>2784.489990</td>\n",
       "      <td>NaN</td>\n",
       "    </tr>\n",
       "    <tr>\n",
       "      <th>2019-03-01 00:00:00-05:00</th>\n",
       "      <td>111.862419</td>\n",
       "      <td>45.601460</td>\n",
       "      <td>2834.399902</td>\n",
       "      <td>NaN</td>\n",
       "    </tr>\n",
       "    <tr>\n",
       "      <th>2019-04-01 00:00:00-04:00</th>\n",
       "      <td>123.870056</td>\n",
       "      <td>48.175014</td>\n",
       "      <td>2945.830078</td>\n",
       "      <td>NaN</td>\n",
       "    </tr>\n",
       "    <tr>\n",
       "      <th>2019-05-01 00:00:00-04:00</th>\n",
       "      <td>117.306618</td>\n",
       "      <td>42.029198</td>\n",
       "      <td>2752.060059</td>\n",
       "      <td>NaN</td>\n",
       "    </tr>\n",
       "    <tr>\n",
       "      <th>2019-06-01 00:00:00-04:00</th>\n",
       "      <td>127.527252</td>\n",
       "      <td>47.697796</td>\n",
       "      <td>2941.760010</td>\n",
       "      <td>NaN</td>\n",
       "    </tr>\n",
       "    <tr>\n",
       "      <th>2019-07-01 00:00:00-04:00</th>\n",
       "      <td>129.726288</td>\n",
       "      <td>51.341652</td>\n",
       "      <td>2980.379883</td>\n",
       "      <td>NaN</td>\n",
       "    </tr>\n",
       "  </tbody>\n",
       "</table>\n",
       "</div>"
      ],
      "text/plain": [
       "                                 MSFT       AAPL        ^GSPC    IRX\n",
       "Date                                                                \n",
       "2014-08-01 00:00:00-04:00   38.602406  22.640009  2003.369995  0.054\n",
       "2014-09-01 00:00:00-04:00   39.638680  22.364162  1972.290039  0.051\n",
       "2014-10-01 00:00:00-04:00   40.143139  23.973495  2018.050049  0.051\n",
       "2014-11-01 00:00:00-04:00   40.878456  26.399706  2067.560059  0.051\n",
       "2014-12-01 00:00:00-05:00   39.966129  24.608046  2058.899902  0.038\n",
       "2015-01-01 00:00:00-05:00   34.760632  26.119572  1994.989990  0.060\n",
       "2015-02-01 00:00:00-05:00   37.729057  28.638788  2104.500000  0.083\n",
       "2015-03-01 00:00:00-05:00   35.233315  27.849825  2067.889893  0.084\n",
       "2015-04-01 00:00:00-04:00   42.148258  28.010979  2085.510010    NaN\n",
       "2015-05-01 00:00:00-04:00   40.605839  29.159170  2107.389893    NaN\n",
       "2015-06-01 00:00:00-04:00   38.506157  28.190907  2063.110107    NaN\n",
       "2015-07-01 00:00:00-04:00   40.730183  27.262674  2103.840088    NaN\n",
       "2015-08-01 00:00:00-04:00   37.956688  25.343275  1972.180054    NaN\n",
       "2015-09-01 00:00:00-04:00   38.856659  24.902588  1920.030029    NaN\n",
       "2015-10-01 00:00:00-04:00   46.213600  26.979689  2079.360107    NaN\n",
       "2015-11-01 00:00:00-04:00   47.714832  26.708759  2080.409912    NaN\n",
       "2015-12-01 00:00:00-05:00   49.035183  23.866430  2043.939941    NaN\n",
       "2016-01-01 00:00:00-05:00   48.690479  22.070665  1940.239990    NaN\n",
       "2016-02-01 00:00:00-05:00   44.969543  21.923283  1932.229980    NaN\n",
       "2016-03-01 00:00:00-05:00   49.164707  24.846258  2059.739990    NaN\n",
       "2016-04-01 00:00:00-04:00   44.393337  21.369738  2065.300049    NaN\n",
       "2016-05-01 00:00:00-04:00   47.179596  22.764900  2096.949951    NaN\n",
       "2016-06-01 00:00:00-04:00   45.869175  21.926447  2098.860107    NaN\n",
       "2016-07-01 00:00:00-04:00   50.808376  23.901207  2173.600098    NaN\n",
       "2016-08-01 00:00:00-04:00   51.507572  24.334684  2170.949951    NaN\n",
       "2016-09-01 00:00:00-04:00   51.954887  26.069172  2168.270020    NaN\n",
       "2016-10-01 00:00:00-04:00   54.047504  26.182173  2126.149902    NaN\n",
       "2016-11-01 00:00:00-04:00   54.354191  25.485760  2198.810059    NaN\n",
       "2016-12-01 00:00:00-05:00   56.428585  26.845060  2238.830078    NaN\n",
       "2017-01-01 00:00:00-05:00   58.707886  28.126820  2278.870117    NaN\n",
       "2017-02-01 00:00:00-05:00   58.099468  31.751900  2363.639893    NaN\n",
       "2017-03-01 00:00:00-05:00   60.169243  33.442249  2362.719971    NaN\n",
       "2017-04-01 00:00:00-04:00   62.544579  33.439922  2384.199951    NaN\n",
       "2017-05-01 00:00:00-04:00   63.805340  35.560619  2411.800049    NaN\n",
       "2017-06-01 00:00:00-04:00   63.334946  33.664440  2423.409912    NaN\n",
       "2017-07-01 00:00:00-04:00   66.798927  34.765396  2470.300049    NaN\n",
       "2017-08-01 00:00:00-04:00   68.700897  38.334732  2471.649902    NaN\n",
       "2017-09-01 00:00:00-04:00   68.808304  36.166771  2519.360107    NaN\n",
       "2017-10-01 00:00:00-04:00   76.835480  39.667988  2575.260010    NaN\n",
       "2017-11-01 00:00:00-04:00   77.749947  40.327400  2647.580078    NaN\n",
       "2017-12-01 00:00:00-05:00   79.412277  39.855331  2673.610107    NaN\n",
       "2018-01-01 00:00:00-05:00   88.203896  39.431408  2823.810059    NaN\n",
       "2018-02-01 00:00:00-05:00   87.052704  41.949005  2713.830078    NaN\n",
       "2018-03-01 00:00:00-05:00   85.129837  39.674938  2640.870117    NaN\n",
       "2018-04-01 00:00:00-04:00   87.228477  39.079048  2648.050049    NaN\n",
       "2018-05-01 00:00:00-04:00   92.190559  44.189171  2705.270020    NaN\n",
       "2018-06-01 00:00:00-04:00   92.374718  43.941757  2718.370117    NaN\n",
       "2018-07-01 00:00:00-04:00   99.372353  45.171406  2816.290039    NaN\n",
       "2018-08-01 00:00:00-04:00  105.227150  54.035252  2901.520020    NaN\n",
       "2018-09-01 00:00:00-04:00  107.550461  53.774532  2913.979980    NaN\n",
       "2018-10-01 00:00:00-04:00  100.441261  52.135620  2711.739990    NaN\n",
       "2018-11-01 00:00:00-04:00  104.277954  42.540340  2760.169922    NaN\n",
       "2018-12-01 00:00:00-05:00   95.926300  37.707058  2506.850098    NaN\n",
       "2019-01-01 00:00:00-05:00   98.627388  39.786751  2704.100098    NaN\n",
       "2019-02-01 00:00:00-05:00  105.805122  41.390739  2784.489990    NaN\n",
       "2019-03-01 00:00:00-05:00  111.862419  45.601460  2834.399902    NaN\n",
       "2019-04-01 00:00:00-04:00  123.870056  48.175014  2945.830078    NaN\n",
       "2019-05-01 00:00:00-04:00  117.306618  42.029198  2752.060059    NaN\n",
       "2019-06-01 00:00:00-04:00  127.527252  47.697796  2941.760010    NaN\n",
       "2019-07-01 00:00:00-04:00  129.726288  51.341652  2980.379883    NaN"
      ]
     },
     "execution_count": 3,
     "metadata": {},
     "output_type": "execute_result"
    }
   ],
   "source": [
    "price"
   ]
  },
  {
   "cell_type": "code",
   "execution_count": 4,
   "metadata": {},
   "outputs": [
    {
     "data": {
      "text/html": [
       "<div>\n",
       "<style scoped>\n",
       "    .dataframe tbody tr th:only-of-type {\n",
       "        vertical-align: middle;\n",
       "    }\n",
       "\n",
       "    .dataframe tbody tr th {\n",
       "        vertical-align: top;\n",
       "    }\n",
       "\n",
       "    .dataframe thead th {\n",
       "        text-align: right;\n",
       "    }\n",
       "</style>\n",
       "<table border=\"1\" class=\"dataframe\">\n",
       "  <thead>\n",
       "    <tr style=\"text-align: right;\">\n",
       "      <th></th>\n",
       "      <th>MSFT</th>\n",
       "      <th>AAPL</th>\n",
       "      <th>^GSPC</th>\n",
       "      <th>IRX</th>\n",
       "    </tr>\n",
       "    <tr>\n",
       "      <th>Date</th>\n",
       "      <th></th>\n",
       "      <th></th>\n",
       "      <th></th>\n",
       "      <th></th>\n",
       "    </tr>\n",
       "  </thead>\n",
       "  <tbody>\n",
       "    <tr>\n",
       "      <th>2014-08-01 00:00:00-04:00</th>\n",
       "      <td>NaN</td>\n",
       "      <td>NaN</td>\n",
       "      <td>NaN</td>\n",
       "      <td>NaN</td>\n",
       "    </tr>\n",
       "    <tr>\n",
       "      <th>2014-09-01 00:00:00-04:00</th>\n",
       "      <td>0.026845</td>\n",
       "      <td>-0.012184</td>\n",
       "      <td>-0.015514</td>\n",
       "      <td>-0.055556</td>\n",
       "    </tr>\n",
       "    <tr>\n",
       "      <th>2014-10-01 00:00:00-04:00</th>\n",
       "      <td>0.012726</td>\n",
       "      <td>0.071960</td>\n",
       "      <td>0.023201</td>\n",
       "      <td>0.000000</td>\n",
       "    </tr>\n",
       "    <tr>\n",
       "      <th>2014-11-01 00:00:00-04:00</th>\n",
       "      <td>0.018317</td>\n",
       "      <td>0.101204</td>\n",
       "      <td>0.024534</td>\n",
       "      <td>0.000000</td>\n",
       "    </tr>\n",
       "    <tr>\n",
       "      <th>2014-12-01 00:00:00-05:00</th>\n",
       "      <td>-0.022318</td>\n",
       "      <td>-0.067867</td>\n",
       "      <td>-0.004189</td>\n",
       "      <td>-0.254902</td>\n",
       "    </tr>\n",
       "  </tbody>\n",
       "</table>\n",
       "</div>"
      ],
      "text/plain": [
       "                               MSFT      AAPL     ^GSPC       IRX\n",
       "Date                                                             \n",
       "2014-08-01 00:00:00-04:00       NaN       NaN       NaN       NaN\n",
       "2014-09-01 00:00:00-04:00  0.026845 -0.012184 -0.015514 -0.055556\n",
       "2014-10-01 00:00:00-04:00  0.012726  0.071960  0.023201  0.000000\n",
       "2014-11-01 00:00:00-04:00  0.018317  0.101204  0.024534  0.000000\n",
       "2014-12-01 00:00:00-05:00 -0.022318 -0.067867 -0.004189 -0.254902"
      ]
     },
     "execution_count": 4,
     "metadata": {},
     "output_type": "execute_result"
    }
   ],
   "source": [
    "df = (price / price.shift(1)) - 1\n",
    "df.head()"
   ]
  },
  {
   "cell_type": "code",
   "execution_count": 5,
   "metadata": {},
   "outputs": [
    {
     "data": {
      "text/plain": [
       "(60, 4)"
      ]
     },
     "execution_count": 5,
     "metadata": {},
     "output_type": "execute_result"
    }
   ],
   "source": [
    "df.shape"
   ]
  },
  {
   "cell_type": "code",
   "execution_count": 6,
   "metadata": {},
   "outputs": [
    {
     "data": {
      "image/png": "[encoded data removed]",
      "text/plain": [
       "<Figure size 600x600 with 1 Axes>"
      ]
     },
     "metadata": {},
     "output_type": "display_data"
    }
   ],
   "source": [
    "df.plot(figsize=(6,6))\n",
    "plt.xlabel(\"Date\", fontsize = 18)\n",
    "plt.ylabel(\"Rendement\", fontsize = 18)\n",
    "plt.legend(loc = \"upper left\")\n",
    "plt.show()"
   ]
  },
  {
   "cell_type": "markdown",
   "metadata": {},
   "source": [
    "b) Faites un histogramme et tracez la fonction de distribution cumulative ( CDF)\n",
    "empirique pour les rendements de chacun des titres risqués."
   ]
  },
  {
   "cell_type": "markdown",
   "metadata": {},
   "source": [
    "<h5> Histogramme </h5>"
   ]
  },
  {
   "cell_type": "code",
   "execution_count": 7,
   "metadata": {},
   "outputs": [
    {
     "data": {
      "text/plain": [
       "<seaborn.axisgrid.FacetGrid at 0x19c7912fe90>"
      ]
     },
     "execution_count": 7,
     "metadata": {},
     "output_type": "execute_result"
    },
    {
     "data": {
      "image/png": "[encoded data removed]",
      "text/plain": [
       "<Figure size 500x500 with 1 Axes>"
      ]
     },
     "metadata": {},
     "output_type": "display_data"
    }
   ],
   "source": [
    "#afficher l'histogramme\n",
    "sns.displot(df[\"MSFT\"], kde = True)"
   ]
  },
  {
   "cell_type": "code",
   "execution_count": 8,
   "metadata": {},
   "outputs": [
    {
     "data": {
      "text/plain": [
       "<seaborn.axisgrid.FacetGrid at 0x19c7934bfe0>"
      ]
     },
     "execution_count": 8,
     "metadata": {},
     "output_type": "execute_result"
    },
    {
     "data": {
      "image/png": "[encoded data removed]",
      "text/plain": [
       "<Figure size 500x500 with 1 Axes>"
      ]
     },
     "metadata": {},
     "output_type": "display_data"
    }
   ],
   "source": [
    "sns.displot(df[\"AAPL\"], kde = True)"
   ]
  },
  {
   "cell_type": "code",
   "execution_count": 9,
   "metadata": {},
   "outputs": [
    {
     "data": {
      "text/plain": [
       "<seaborn.axisgrid.FacetGrid at 0x19c7929a270>"
      ]
     },
     "execution_count": 9,
     "metadata": {},
     "output_type": "execute_result"
    },
    {
     "data": {
      "image/png": "[encoded data removed]",
      "text/plain": [
       "<Figure size 500x500 with 1 Axes>"
      ]
     },
     "metadata": {},
     "output_type": "display_data"
    }
   ],
   "source": [
    "sns.displot(df[\"IRX\"], kde = True)"
   ]
  },
  {
   "cell_type": "code",
   "execution_count": 10,
   "metadata": {},
   "outputs": [
    {
     "data": {
      "text/plain": [
       "<seaborn.axisgrid.FacetGrid at 0x19c794273e0>"
      ]
     },
     "execution_count": 10,
     "metadata": {},
     "output_type": "execute_result"
    },
    {
     "data": {
      "image/png": "[encoded data removed]",
      "text/plain": [
       "<Figure size 500x500 with 1 Axes>"
      ]
     },
     "metadata": {},
     "output_type": "display_data"
    }
   ],
   "source": [
    "sns.displot(df[\"^GSPC\"], kde = True)"
   ]
  },
  {
   "cell_type": "markdown",
   "metadata": {},
   "source": [
    "CDF"
   ]
  },
  {
   "cell_type": "markdown",
   "metadata": {},
   "source": [
    "c) Pour les rendements de chacun des 3 titres risqués, calculez les statistiques\n",
    "descriptives suivantes : minimum, maximum, portée (”range”), moyenne arithmétique,\n",
    "médiane, variance, écart-type, MAD (”Mean absolute deviation”),\n",
    "semi-variance lower, coefficient de variation, Sharpe ratio, skewness, et kurtosis.\n",
    "Utilisez les formules du Ch3."
   ]
  },
  {
   "cell_type": "markdown",
   "metadata": {},
   "source": [
    "Moyenne arithmétique, Écart-type, Minimum, Maximum "
   ]
  },
  {
   "cell_type": "code",
   "execution_count": 11,
   "metadata": {},
   "outputs": [
    {
     "data": {
      "text/html": [
       "<div>\n",
       "<style scoped>\n",
       "    .dataframe tbody tr th:only-of-type {\n",
       "        vertical-align: middle;\n",
       "    }\n",
       "\n",
       "    .dataframe tbody tr th {\n",
       "        vertical-align: top;\n",
       "    }\n",
       "\n",
       "    .dataframe thead th {\n",
       "        text-align: right;\n",
       "    }\n",
       "</style>\n",
       "<table border=\"1\" class=\"dataframe\">\n",
       "  <thead>\n",
       "    <tr style=\"text-align: right;\">\n",
       "      <th></th>\n",
       "      <th>MSFT</th>\n",
       "      <th>AAPL</th>\n",
       "      <th>^GSPC</th>\n",
       "      <th>IRX</th>\n",
       "    </tr>\n",
       "  </thead>\n",
       "  <tbody>\n",
       "    <tr>\n",
       "      <th>count</th>\n",
       "      <td>59.000000</td>\n",
       "      <td>59.000000</td>\n",
       "      <td>59.000000</td>\n",
       "      <td>7.000000</td>\n",
       "    </tr>\n",
       "    <tr>\n",
       "      <th>mean</th>\n",
       "      <td>0.022623</td>\n",
       "      <td>0.016812</td>\n",
       "      <td>0.007348</td>\n",
       "      <td>0.094839</td>\n",
       "    </tr>\n",
       "    <tr>\n",
       "      <th>std</th>\n",
       "      <td>0.062410</td>\n",
       "      <td>0.075867</td>\n",
       "      <td>0.034640</td>\n",
       "      <td>0.285006</td>\n",
       "    </tr>\n",
       "    <tr>\n",
       "      <th>min</th>\n",
       "      <td>-0.130248</td>\n",
       "      <td>-0.184045</td>\n",
       "      <td>-0.091777</td>\n",
       "      <td>-0.254902</td>\n",
       "    </tr>\n",
       "    <tr>\n",
       "      <th>25%</th>\n",
       "      <td>-0.008868</td>\n",
       "      <td>-0.029013</td>\n",
       "      <td>-0.004158</td>\n",
       "      <td>-0.027778</td>\n",
       "    </tr>\n",
       "    <tr>\n",
       "      <th>50%</th>\n",
       "      <td>0.023710</td>\n",
       "      <td>0.016623</td>\n",
       "      <td>0.009832</td>\n",
       "      <td>0.000000</td>\n",
       "    </tr>\n",
       "    <tr>\n",
       "      <th>75%</th>\n",
       "      <td>0.057068</td>\n",
       "      <td>0.068282</td>\n",
       "      <td>0.023868</td>\n",
       "      <td>0.197691</td>\n",
       "    </tr>\n",
       "    <tr>\n",
       "      <th>max</th>\n",
       "      <td>0.196262</td>\n",
       "      <td>0.196227</td>\n",
       "      <td>0.082983</td>\n",
       "      <td>0.578947</td>\n",
       "    </tr>\n",
       "  </tbody>\n",
       "</table>\n",
       "</div>"
      ],
      "text/plain": [
       "            MSFT       AAPL      ^GSPC       IRX\n",
       "count  59.000000  59.000000  59.000000  7.000000\n",
       "mean    0.022623   0.016812   0.007348  0.094839\n",
       "std     0.062410   0.075867   0.034640  0.285006\n",
       "min    -0.130248  -0.184045  -0.091777 -0.254902\n",
       "25%    -0.008868  -0.029013  -0.004158 -0.027778\n",
       "50%     0.023710   0.016623   0.009832  0.000000\n",
       "75%     0.057068   0.068282   0.023868  0.197691\n",
       "max     0.196262   0.196227   0.082983  0.578947"
      ]
     },
     "execution_count": 11,
     "metadata": {},
     "output_type": "execute_result"
    }
   ],
   "source": [
    "df.describe()"
   ]
  },
  {
   "cell_type": "markdown",
   "metadata": {},
   "source": [
    "<h5>Portée</h5>"
   ]
  },
  {
   "cell_type": "code",
   "execution_count": 12,
   "metadata": {},
   "outputs": [
    {
     "data": {
      "text/plain": [
       "np.float64(0.3265092483652817)"
      ]
     },
     "execution_count": 12,
     "metadata": {},
     "output_type": "execute_result"
    }
   ],
   "source": [
    "df[\"MSFT\"].max() - df[\"MSFT\"].min()"
   ]
  },
  {
   "cell_type": "code",
   "execution_count": 13,
   "metadata": {},
   "outputs": [
    {
     "data": {
      "text/plain": [
       "np.float64(0.3802715264649218)"
      ]
     },
     "execution_count": 13,
     "metadata": {},
     "output_type": "execute_result"
    }
   ],
   "source": [
    "df[\"AAPL\"].max() - df[\"AAPL\"].min()"
   ]
  },
  {
   "cell_type": "code",
   "execution_count": 14,
   "metadata": {},
   "outputs": [
    {
     "data": {
      "text/plain": [
       "np.float64(0.17476001249263906)"
      ]
     },
     "execution_count": 14,
     "metadata": {},
     "output_type": "execute_result"
    }
   ],
   "source": [
    "df[\"^GSPC\"].max() - df[\"^GSPC\"].min()"
   ]
  },
  {
   "cell_type": "markdown",
   "metadata": {},
   "source": [
    "Médiane"
   ]
  },
  {
   "cell_type": "code",
   "execution_count": 15,
   "metadata": {},
   "outputs": [
    {
     "data": {
      "text/plain": [
       "MSFT     0.023710\n",
       "AAPL     0.016623\n",
       "^GSPC    0.009832\n",
       "IRX      0.000000\n",
       "dtype: float64"
      ]
     },
     "execution_count": 15,
     "metadata": {},
     "output_type": "execute_result"
    }
   ],
   "source": [
    "df.median()"
   ]
  },
  {
   "cell_type": "markdown",
   "metadata": {},
   "source": [
    "Variance"
   ]
  },
  {
   "cell_type": "code",
   "execution_count": 16,
   "metadata": {},
   "outputs": [
    {
     "data": {
      "text/plain": [
       "MSFT     0.003895\n",
       "AAPL     0.005756\n",
       "^GSPC    0.001200\n",
       "IRX      0.081228\n",
       "dtype: float64"
      ]
     },
     "execution_count": 16,
     "metadata": {},
     "output_type": "execute_result"
    }
   ],
   "source": [
    "df.var()"
   ]
  },
  {
   "cell_type": "markdown",
   "metadata": {},
   "source": [
    "MAD"
   ]
  },
  {
   "cell_type": "code",
   "execution_count": 17,
   "metadata": {},
   "outputs": [
    {
     "name": "stderr",
     "output_type": "stream",
     "text": [
      "d:\\Study\\cours_d_info\\Nouveau_dossier\\Python_test\\finance\\env_finance\\Lib\\site-packages\\numpy\\_core\\fromnumeric.py:84: FutureWarning: The behavior of DataFrame.sum with axis=None is deprecated, in a future version this will reduce over both axes and return a scalar. To retain the old behavior, pass axis=0 (or do not pass axis)\n",
      "  return reduction(axis=axis, out=out, **passkwargs)\n"
     ]
    },
    {
     "data": {
      "text/plain": [
       "MSFT    -1.938011e-18\n",
       "AAPL    -2.602085e-18\n",
       "^GSPC   -1.788934e-18\n",
       "IRX      6.938894e-18\n",
       "dtype: float64"
      ]
     },
     "execution_count": 17,
     "metadata": {},
     "output_type": "execute_result"
    }
   ],
   "source": [
    "np.sum(((df - df.mean()) / df.count()))"
   ]
  },
  {
   "cell_type": "markdown",
   "metadata": {},
   "source": [
    "Sémi-variance lower"
   ]
  },
  {
   "cell_type": "code",
   "execution_count": 18,
   "metadata": {},
   "outputs": [
    {
     "data": {
      "text/plain": [
       "MSFT     0.001701\n",
       "AAPL     0.002375\n",
       "^GSPC    0.000722\n",
       "IRX      0.012599\n",
       "dtype: float64"
      ]
     },
     "execution_count": 18,
     "metadata": {},
     "output_type": "execute_result"
    }
   ],
   "source": [
    "df[df < df.mean()].var()"
   ]
  },
  {
   "cell_type": "markdown",
   "metadata": {},
   "source": [
    "Coefficient de variation"
   ]
  },
  {
   "cell_type": "code",
   "execution_count": 19,
   "metadata": {},
   "outputs": [
    {
     "data": {
      "text/plain": [
       "MSFT     2.758643\n",
       "AAPL     4.512788\n",
       "^GSPC    4.714437\n",
       "IRX      3.005163\n",
       "dtype: float64"
      ]
     },
     "execution_count": 19,
     "metadata": {},
     "output_type": "execute_result"
    }
   ],
   "source": [
    "df.std() / df.mean()"
   ]
  },
  {
   "cell_type": "markdown",
   "metadata": {},
   "source": [
    "Ratio de Sharpe"
   ]
  },
  {
   "cell_type": "code",
   "execution_count": 20,
   "metadata": {},
   "outputs": [
    {
     "data": {
      "text/plain": [
       "MSFT     0.042034\n",
       "AAPL    -0.042025\n",
       "^GSPC   -0.365248\n",
       "IRX      0.262587\n",
       "dtype: float64"
      ]
     },
     "execution_count": 20,
     "metadata": {},
     "output_type": "execute_result"
    }
   ],
   "source": [
    "tx_sans_risque = 0.02\n",
    "\n",
    "( df.mean() - tx_sans_risque ) / df.std()"
   ]
  },
  {
   "cell_type": "markdown",
   "metadata": {},
   "source": [
    "<h5> le coefficient d'asymétrie </h5>"
   ]
  },
  {
   "cell_type": "code",
   "execution_count": 21,
   "metadata": {},
   "outputs": [
    {
     "data": {
      "text/plain": [
       "MSFT     0.223288\n",
       "AAPL    -0.262109\n",
       "^GSPC   -0.447381\n",
       "IRX      0.897151\n",
       "dtype: float64"
      ]
     },
     "execution_count": 21,
     "metadata": {},
     "output_type": "execute_result"
    }
   ],
   "source": [
    "df.skew()"
   ]
  },
  {
   "cell_type": "markdown",
   "metadata": {},
   "source": [
    "<h5> Kurtosis </h5>"
   ]
  },
  {
   "cell_type": "code",
   "execution_count": 22,
   "metadata": {},
   "outputs": [
    {
     "data": {
      "text/plain": [
       "MSFT     0.936513\n",
       "AAPL     0.053985\n",
       "^GSPC    0.917783\n",
       "IRX      0.083852\n",
       "dtype: float64"
      ]
     },
     "execution_count": 22,
     "metadata": {},
     "output_type": "execute_result"
    }
   ],
   "source": [
    "df.kurtosis()"
   ]
  },
  {
   "cell_type": "markdown",
   "metadata": {},
   "source": [
    "d) Pour les 3 titres risqués, calculez la matrice 3 * 3 de variances et de covariances,\n",
    "et la matrice 3 * 3 de corrélations."
   ]
  },
  {
   "cell_type": "code",
   "execution_count": 23,
   "metadata": {},
   "outputs": [
    {
     "data": {
      "text/html": [
       "<div>\n",
       "<style scoped>\n",
       "    .dataframe tbody tr th:only-of-type {\n",
       "        vertical-align: middle;\n",
       "    }\n",
       "\n",
       "    .dataframe tbody tr th {\n",
       "        vertical-align: top;\n",
       "    }\n",
       "\n",
       "    .dataframe thead th {\n",
       "        text-align: right;\n",
       "    }\n",
       "</style>\n",
       "<table border=\"1\" class=\"dataframe\">\n",
       "  <thead>\n",
       "    <tr style=\"text-align: right;\">\n",
       "      <th></th>\n",
       "      <th>MSFT</th>\n",
       "      <th>AAPL</th>\n",
       "      <th>^GSPC</th>\n",
       "      <th>IRX</th>\n",
       "    </tr>\n",
       "  </thead>\n",
       "  <tbody>\n",
       "    <tr>\n",
       "      <th>MSFT</th>\n",
       "      <td>0.003895</td>\n",
       "      <td>0.002153</td>\n",
       "      <td>0.001459</td>\n",
       "      <td>-0.005353</td>\n",
       "    </tr>\n",
       "    <tr>\n",
       "      <th>AAPL</th>\n",
       "      <td>0.002153</td>\n",
       "      <td>0.005756</td>\n",
       "      <td>0.001474</td>\n",
       "      <td>0.011498</td>\n",
       "    </tr>\n",
       "    <tr>\n",
       "      <th>^GSPC</th>\n",
       "      <td>0.001459</td>\n",
       "      <td>0.001474</td>\n",
       "      <td>0.001200</td>\n",
       "      <td>0.000253</td>\n",
       "    </tr>\n",
       "    <tr>\n",
       "      <th>IRX</th>\n",
       "      <td>-0.005353</td>\n",
       "      <td>0.011498</td>\n",
       "      <td>0.000253</td>\n",
       "      <td>0.081228</td>\n",
       "    </tr>\n",
       "  </tbody>\n",
       "</table>\n",
       "</div>"
      ],
      "text/plain": [
       "           MSFT      AAPL     ^GSPC       IRX\n",
       "MSFT   0.003895  0.002153  0.001459 -0.005353\n",
       "AAPL   0.002153  0.005756  0.001474  0.011498\n",
       "^GSPC  0.001459  0.001474  0.001200  0.000253\n",
       "IRX   -0.005353  0.011498  0.000253  0.081228"
      ]
     },
     "execution_count": 23,
     "metadata": {},
     "output_type": "execute_result"
    }
   ],
   "source": [
    "#Matrice de covariance\n",
    "df.cov()"
   ]
  },
  {
   "cell_type": "code",
   "execution_count": 24,
   "metadata": {},
   "outputs": [
    {
     "data": {
      "text/html": [
       "<div>\n",
       "<style scoped>\n",
       "    .dataframe tbody tr th:only-of-type {\n",
       "        vertical-align: middle;\n",
       "    }\n",
       "\n",
       "    .dataframe tbody tr th {\n",
       "        vertical-align: top;\n",
       "    }\n",
       "\n",
       "    .dataframe thead th {\n",
       "        text-align: right;\n",
       "    }\n",
       "</style>\n",
       "<table border=\"1\" class=\"dataframe\">\n",
       "  <thead>\n",
       "    <tr style=\"text-align: right;\">\n",
       "      <th></th>\n",
       "      <th>MSFT</th>\n",
       "      <th>AAPL</th>\n",
       "      <th>^GSPC</th>\n",
       "      <th>IRX</th>\n",
       "    </tr>\n",
       "  </thead>\n",
       "  <tbody>\n",
       "    <tr>\n",
       "      <th>MSFT</th>\n",
       "      <td>1.000000</td>\n",
       "      <td>0.454643</td>\n",
       "      <td>0.674841</td>\n",
       "      <td>-0.267689</td>\n",
       "    </tr>\n",
       "    <tr>\n",
       "      <th>AAPL</th>\n",
       "      <td>0.454643</td>\n",
       "      <td>1.000000</td>\n",
       "      <td>0.560735</td>\n",
       "      <td>0.602765</td>\n",
       "    </tr>\n",
       "    <tr>\n",
       "      <th>^GSPC</th>\n",
       "      <td>0.674841</td>\n",
       "      <td>0.560735</td>\n",
       "      <td>1.000000</td>\n",
       "      <td>0.029343</td>\n",
       "    </tr>\n",
       "    <tr>\n",
       "      <th>IRX</th>\n",
       "      <td>-0.267689</td>\n",
       "      <td>0.602765</td>\n",
       "      <td>0.029343</td>\n",
       "      <td>1.000000</td>\n",
       "    </tr>\n",
       "  </tbody>\n",
       "</table>\n",
       "</div>"
      ],
      "text/plain": [
       "           MSFT      AAPL     ^GSPC       IRX\n",
       "MSFT   1.000000  0.454643  0.674841 -0.267689\n",
       "AAPL   0.454643  1.000000  0.560735  0.602765\n",
       "^GSPC  0.674841  0.560735  1.000000  0.029343\n",
       "IRX   -0.267689  0.602765  0.029343  1.000000"
      ]
     },
     "execution_count": 24,
     "metadata": {},
     "output_type": "execute_result"
    }
   ],
   "source": [
    "#Matrice de corrélation\n",
    "df.corr()"
   ]
  },
  {
   "cell_type": "markdown",
   "metadata": {},
   "source": [
    "2. (20 points) Considérons pour cette question un portefeuille équipondéré de\n",
    "Microsoft et Apple."
   ]
  },
  {
   "cell_type": "markdown",
   "metadata": {},
   "source": [
    "a) Calculez les rendements simples mensuels pour ce portefeuille et faites un\n",
    "graphique de leur évolution temporelle sur la période de cinq ans, puis un histogramme pour les rendements de ce portefeuille."
   ]
  },
  {
   "cell_type": "code",
   "execution_count": 26,
   "metadata": {},
   "outputs": [
    {
     "data": {
      "text/html": [
       "<div>\n",
       "<style scoped>\n",
       "    .dataframe tbody tr th:only-of-type {\n",
       "        vertical-align: middle;\n",
       "    }\n",
       "\n",
       "    .dataframe tbody tr th {\n",
       "        vertical-align: top;\n",
       "    }\n",
       "\n",
       "    .dataframe thead th {\n",
       "        text-align: right;\n",
       "    }\n",
       "</style>\n",
       "<table border=\"1\" class=\"dataframe\">\n",
       "  <thead>\n",
       "    <tr style=\"text-align: right;\">\n",
       "      <th></th>\n",
       "      <th>MSFT</th>\n",
       "      <th>AAPL</th>\n",
       "      <th>^GSPC</th>\n",
       "      <th>IRX</th>\n",
       "    </tr>\n",
       "    <tr>\n",
       "      <th>Date</th>\n",
       "      <th></th>\n",
       "      <th></th>\n",
       "      <th></th>\n",
       "      <th></th>\n",
       "    </tr>\n",
       "  </thead>\n",
       "  <tbody>\n",
       "    <tr>\n",
       "      <th>2014-08-01 00:00:00-04:00</th>\n",
       "      <td>NaN</td>\n",
       "      <td>NaN</td>\n",
       "      <td>NaN</td>\n",
       "      <td>NaN</td>\n",
       "    </tr>\n",
       "    <tr>\n",
       "      <th>2014-09-01 00:00:00-04:00</th>\n",
       "      <td>0.026845</td>\n",
       "      <td>-0.012184</td>\n",
       "      <td>-0.015514</td>\n",
       "      <td>-0.055556</td>\n",
       "    </tr>\n",
       "    <tr>\n",
       "      <th>2014-10-01 00:00:00-04:00</th>\n",
       "      <td>0.012726</td>\n",
       "      <td>0.071960</td>\n",
       "      <td>0.023201</td>\n",
       "      <td>0.000000</td>\n",
       "    </tr>\n",
       "    <tr>\n",
       "      <th>2014-11-01 00:00:00-04:00</th>\n",
       "      <td>0.018317</td>\n",
       "      <td>0.101204</td>\n",
       "      <td>0.024534</td>\n",
       "      <td>0.000000</td>\n",
       "    </tr>\n",
       "    <tr>\n",
       "      <th>2014-12-01 00:00:00-05:00</th>\n",
       "      <td>-0.022318</td>\n",
       "      <td>-0.067867</td>\n",
       "      <td>-0.004189</td>\n",
       "      <td>-0.254902</td>\n",
       "    </tr>\n",
       "  </tbody>\n",
       "</table>\n",
       "</div>"
      ],
      "text/plain": [
       "                               MSFT      AAPL     ^GSPC       IRX\n",
       "Date                                                             \n",
       "2014-08-01 00:00:00-04:00       NaN       NaN       NaN       NaN\n",
       "2014-09-01 00:00:00-04:00  0.026845 -0.012184 -0.015514 -0.055556\n",
       "2014-10-01 00:00:00-04:00  0.012726  0.071960  0.023201  0.000000\n",
       "2014-11-01 00:00:00-04:00  0.018317  0.101204  0.024534  0.000000\n",
       "2014-12-01 00:00:00-05:00 -0.022318 -0.067867 -0.004189 -0.254902"
      ]
     },
     "execution_count": 26,
     "metadata": {},
     "output_type": "execute_result"
    }
   ],
   "source": [
    "df.head()"
   ]
  },
  {
   "cell_type": "code",
   "execution_count": 32,
   "metadata": {},
   "outputs": [
    {
     "data": {
      "text/plain": [
       "<Axes: xlabel='Date'>"
      ]
     },
     "execution_count": 32,
     "metadata": {},
     "output_type": "execute_result"
    },
    {
     "data": {
      "image/png": "[encoded data removed]",
      "text/plain": [
       "<Figure size 600x600 with 1 Axes>"
      ]
     },
     "metadata": {},
     "output_type": "display_data"
    }
   ],
   "source": [
    "Ptf_equi_price = 0.5 * price[\"MSFT\"] + 0.5 * price[\"AAPL\"]\n",
    "Ptf_equi_price.plot(kind=\"line\", figsize=(6,6))"
   ]
  },
  {
   "cell_type": "code",
   "execution_count": 33,
   "metadata": {},
   "outputs": [
    {
     "data": {
      "text/plain": [
       "<Axes: ylabel='Frequency'>"
      ]
     },
     "execution_count": 33,
     "metadata": {},
     "output_type": "execute_result"
    },
    {
     "data": {
      "image/png": "[encoded data removed]",
      "text/plain": [
       "<Figure size 600x600 with 1 Axes>"
      ]
     },
     "metadata": {},
     "output_type": "display_data"
    }
   ],
   "source": [
    "Ptf_equi = 0.5 * df[\"MSFT\"] + 0.5 * df[\"AAPL\"]\n",
    "Ptf_equi.plot(kind=\"hist\", figsize=(6,6))"
   ]
  },
  {
   "cell_type": "markdown",
   "metadata": {},
   "source": [
    "b) Pour les rendements de ce portefeuille, calculez les statistiques descriptives suivantes : minimum, maximum, portée (”range”), moyenne arithmétique, médiane, variance, écart-type, MAD (” Mean absolute deviation”), semi-variance lower, coefficient de variation, Sharpe ratio, skewness, et kurtosis. Comparez ces statistiques à celles des statistiques des titres individuels du portefeuille (MSFT et AAPL). Dans le calcul du ratio de Sharpe, assurez-vous que les rendements que vous utilisez sur l’obligation soient en décimale (comme ceux des titres risqués), et non en pourcentage."
   ]
  },
  {
   "cell_type": "code",
   "execution_count": 48,
   "metadata": {},
   "outputs": [
    {
     "name": "stdout",
     "output_type": "stream",
     "text": [
      "Le minimum : -0.11848498588695672\n",
      "Le maximum : 0.13637221814159795\n",
      "La portée : 0.25485720402855466\n",
      "La moyenne arithmétique : 0.019717469126854313\n",
      "La médiane : 0.019703995831546917\n",
      "La variance : 0.003489038540115049\n",
      "L'écart-type : 0.059068083938071406\n",
      "L'écart moyen : -6.7220534694101275e-18\n",
      "La sémi-variance : 0.001352616478288986\n",
      "Le coefficient de variation : 2.995723414503706\n",
      "Le ratio de sharpe : -0.004783139291294777\n",
      "Le Coefficient d'asymétrie : -0.15070980999101688\n",
      "Le coefficient d'applatissement : -0.49766953501959055\n"
     ]
    }
   ],
   "source": [
    "#Minimum\n",
    "print(\"Le minimum :\", Ptf_equi.min())\n",
    "#Maximum\n",
    "print(\"Le maximum :\", Ptf_equi.max())\n",
    "#La portée\n",
    "portée = Ptf_equi.max() - Ptf_equi.min()\n",
    "print(\"La portée :\", portée )\n",
    "#Moyenne arithmétique\n",
    "print(\"La moyenne arithmétique :\", Ptf_equi.mean())\n",
    "#Médiane\n",
    "print(\"La médiane :\",Ptf_equi.median())\n",
    "#Variance \n",
    "print(\"La variance :\", Ptf_equi.var())\n",
    "#Écart-type (Standart deviation)\n",
    "print(\"L'écart-type :\", Ptf_equi.std())\n",
    "#L'écart moyen\n",
    "MAD = np.sum(((Ptf_equi - Ptf_equi.mean())/Ptf_equi.count())) \n",
    "print(\"L'écart moyen :\",MAD)\n",
    "#Sémi-variance \n",
    "print(\"La sémi-variance :\", Ptf_equi[Ptf_equi < Ptf_equi.mean()].var())\n",
    "#Coefficient de variation \n",
    "print(\"Le coefficient de variation :\", (Ptf_equi.std()/Ptf_equi.mean()))\n",
    "#Ratio de sharpe\n",
    "print(\"Le ratio de sharpe :\", ( Ptf_equi.mean() - tx_sans_risque ) / Ptf_equi.std())\n",
    "#Coefficient d'asymétrie (Skewness)\n",
    "print(\"Le Coefficient d'asymétrie :\", Ptf_equi.skew())\n",
    "#Coefficient d'applatissement (Kurtosis)\n",
    "print(\"Le coefficient d'applatissement :\", Ptf_equi.kurt())"
   ]
  },
  {
   "cell_type": "markdown",
   "metadata": {},
   "source": [
    "c) Faites un graphique (x,y) avec l’écart-type sur l’axe horizontal x et la moyenne arithmétique du rendement sur l’axe vertical y. Chaque point sur le graphique représente donc un couple (écart-type, moyenne). Votre graphique devra comporter au final 5 points représentants les couples (écart-type, moyenne) pour Miscrosoft, Apple, l’indice S&P 500, le portefeuille équi-pondéré, et l’actif sans risque. Ajoutez au graphique les droites qui relient le point de l’actif sans risque à ceux des titres risqués. Vous aurez donc 4 droites dont les pentes sont égales aux ratios de Sharpe respectifs."
   ]
  },
  {
   "cell_type": "code",
   "execution_count": null,
   "metadata": {},
   "outputs": [],
   "source": []
  },
  {
   "cell_type": "code",
   "execution_count": null,
   "metadata": {},
   "outputs": [],
   "source": []
  }
 ],
 "metadata": {
  "kernelspec": {
   "display_name": "env_finance",
   "language": "python",
   "name": "python3"
  },
  "language_info": {
   "codemirror_mode": {
    "name": "ipython",
    "version": 3
   },
   "file_extension": ".py",
   "mimetype": "text/x-python",
   "name": "python",
   "nbconvert_exporter": "python",
   "pygments_lexer": "ipython3",
   "version": "3.12.4"
  }
 },
 "nbformat": 4,
 "nbformat_minor": 2
}
