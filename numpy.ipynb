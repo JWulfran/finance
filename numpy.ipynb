{
 "cells": [
  {
   "cell_type": "markdown",
   "metadata": {},
   "source": [
    "les 3 façon d'importer Numpy"
   ]
  },
  {
   "cell_type": "code",
   "execution_count": 1,
   "metadata": {},
   "outputs": [],
   "source": [
    "#import numpy \n",
    "import numpy as np "
   ]
  },
  {
   "cell_type": "markdown",
   "metadata": {},
   "source": [
    "np.array() ==> Conception de matrice "
   ]
  },
  {
   "cell_type": "code",
   "execution_count": 2,
   "metadata": {},
   "outputs": [
    {
     "name": "stdout",
     "output_type": "stream",
     "text": [
      "[[1 2 3]]\n"
     ]
    }
   ],
   "source": [
    "#conception de tableau avec une ligne \n",
    "A = np.array([[1,2,3]]) \n",
    "print(A)"
   ]
  },
  {
   "cell_type": "code",
   "execution_count": 3,
   "metadata": {},
   "outputs": [
    {
     "name": "stdout",
     "output_type": "stream",
     "text": [
      "[1 2 3]\n"
     ]
    }
   ],
   "source": [
    "#conception de vecteur\n",
    "B = np.array([1,2,3])\n",
    "print(B)"
   ]
  },
  {
   "cell_type": "code",
   "execution_count": 4,
   "metadata": {},
   "outputs": [
    {
     "name": "stdout",
     "output_type": "stream",
     "text": [
      "[[1]\n",
      " [2]\n",
      " [3]]\n"
     ]
    }
   ],
   "source": [
    "#conception de tableau de colonnes \n",
    "C = np.array([[1],[2],[3]])\n",
    "print(C)"
   ]
  },
  {
   "cell_type": "code",
   "execution_count": 5,
   "metadata": {},
   "outputs": [
    {
     "name": "stdout",
     "output_type": "stream",
     "text": [
      "[[1 2 3]\n",
      " [4 5 6]\n",
      " [7 8 9]]\n"
     ]
    }
   ],
   "source": [
    "#conception de tableau avec des colonnes et des lignes \n",
    "D = np.array([[1,2,3],[4,5,6],[7,8,9]])\n",
    "print(D)"
   ]
  },
  {
   "cell_type": "code",
   "execution_count": 6,
   "metadata": {},
   "outputs": [
    {
     "name": "stdout",
     "output_type": "stream",
     "text": [
      "e = 2.718281828459045 /π = 3.141592653589793\n"
     ]
    }
   ],
   "source": [
    "#afficher exponentiel (e) et pi (π)\n",
    "e = np.e\n",
    "pi = np.pi\n",
    "print(\"e =\",e, \"/π =\",pi) "
   ]
  },
  {
   "cell_type": "markdown",
   "metadata": {},
   "source": [
    "les matrices np.one(), np.zeros() et np.eye()"
   ]
  },
  {
   "cell_type": "code",
   "execution_count": 7,
   "metadata": {},
   "outputs": [
    {
     "name": "stdout",
     "output_type": "stream",
     "text": [
      "[1. 1. 1. 1. 1.]\n"
     ]
    }
   ],
   "source": [
    "U1 = np.ones(5) #Cela nous renvoie un vecteur composer de chiffre 1 (float) \n",
    "print(U1)"
   ]
  },
  {
   "cell_type": "code",
   "execution_count": 8,
   "metadata": {},
   "outputs": [
    {
     "name": "stdout",
     "output_type": "stream",
     "text": [
      "[[1. 1. 1. 1.]\n",
      " [1. 1. 1. 1.]\n",
      " [1. 1. 1. 1.]]\n"
     ]
    }
   ],
   "source": [
    "#il est possible de créer une matrice de 1, il faut ajouter le nbre de ligne et de colonnes entre parenthèse\n",
    "#on a donc une double parenthèse \n",
    "U2 = np.ones((3,4))\n",
    "print(U2)"
   ]
  },
  {
   "cell_type": "code",
   "execution_count": 9,
   "metadata": {},
   "outputs": [
    {
     "name": "stdout",
     "output_type": "stream",
     "text": [
      "[0. 0. 0.]\n"
     ]
    }
   ],
   "source": [
    "#pareil pour np.zeros(), elle renvoie une matrice de 0 \n",
    "O1 = np.zeros(3)\n",
    "print(O1)"
   ]
  },
  {
   "cell_type": "code",
   "execution_count": 10,
   "metadata": {},
   "outputs": [
    {
     "name": "stdout",
     "output_type": "stream",
     "text": [
      "[[0. 0. 0. 0. 0.]\n",
      " [0. 0. 0. 0. 0.]\n",
      " [0. 0. 0. 0. 0.]\n",
      " [0. 0. 0. 0. 0.]]\n"
     ]
    }
   ],
   "source": [
    "O2 = np.zeros((4,5))\n",
    "print(O2)"
   ]
  },
  {
   "cell_type": "code",
   "execution_count": 11,
   "metadata": {},
   "outputs": [
    {
     "name": "stdout",
     "output_type": "stream",
     "text": [
      "[[1. 0.]\n",
      " [0. 1.]]\n"
     ]
    }
   ],
   "source": [
    "#cela permet de générer une matrice identitaire\n",
    "I1 = np.eye(2,2)\n",
    "print(I1)"
   ]
  },
  {
   "cell_type": "code",
   "execution_count": 12,
   "metadata": {},
   "outputs": [
    {
     "name": "stdout",
     "output_type": "stream",
     "text": [
      "[[1. 0. 0. 0.]\n",
      " [0. 1. 0. 0.]]\n"
     ]
    }
   ],
   "source": [
    "#il est possible de générer une matrice identitaire non carré \n",
    "I2 = np.eye(2,4)\n",
    "print(I2)"
   ]
  },
  {
   "cell_type": "markdown",
   "metadata": {},
   "source": [
    "Extraction et modification de données dans une matrice "
   ]
  },
  {
   "cell_type": "code",
   "execution_count": 13,
   "metadata": {},
   "outputs": [
    {
     "name": "stdout",
     "output_type": "stream",
     "text": [
      "[[1 3 4 3]\n",
      " [7 6 5 2]\n",
      " [1 4 8 3]]\n"
     ]
    }
   ],
   "source": [
    "#On donne la matrice C suivante\n",
    "C = np.array([[1,3,4,3],[7,6,5,2],[1,4,8,3]])\n",
    "print(C)"
   ]
  },
  {
   "cell_type": "code",
   "execution_count": 14,
   "metadata": {},
   "outputs": [
    {
     "name": "stdout",
     "output_type": "stream",
     "text": [
      "1\n",
      "[4 5 8]\n",
      "[1 4 8 3]\n"
     ]
    }
   ],
   "source": [
    "print(C[0,0])\n",
    "print(C[:,2])\n",
    "print(C[2,:])"
   ]
  },
  {
   "cell_type": "code",
   "execution_count": 15,
   "metadata": {},
   "outputs": [
    {
     "name": "stdout",
     "output_type": "stream",
     "text": [
      "[[4]\n",
      " [5]\n",
      " [8]]\n"
     ]
    }
   ],
   "source": [
    "#Pour modifier une colonnes, on se sert de cette notation\n",
    "print(C[:,[2]])"
   ]
  },
  {
   "cell_type": "code",
   "execution_count": 16,
   "metadata": {},
   "outputs": [
    {
     "name": "stdout",
     "output_type": "stream",
     "text": [
      "[[10]\n",
      " [20]\n",
      " [30]]\n"
     ]
    }
   ],
   "source": [
    "#Exemple :\n",
    "N = np.array([[10],[20],[30]])\n",
    "print(N)"
   ]
  },
  {
   "cell_type": "code",
   "execution_count": 17,
   "metadata": {},
   "outputs": [
    {
     "name": "stdout",
     "output_type": "stream",
     "text": [
      "[[ 1  3 10  3]\n",
      " [ 7  6 20  2]\n",
      " [ 1  4 30  3]]\n"
     ]
    }
   ],
   "source": [
    "C[:,[2]] = N\n",
    "print(C) # Eh voila on a bien remplacé la 3e colonne (index = 2) par la matrice N "
   ]
  },
  {
   "cell_type": "code",
   "execution_count": 18,
   "metadata": {},
   "outputs": [
    {
     "name": "stdout",
     "output_type": "stream",
     "text": [
      "[[ 1  3 10 17]\n",
      " [ 7  6 20  2]\n",
      " [ 1  4 30  3]]\n"
     ]
    }
   ],
   "source": [
    "C[0,3] = 17\n",
    "print(C)"
   ]
  },
  {
   "cell_type": "code",
   "execution_count": 19,
   "metadata": {},
   "outputs": [
    {
     "name": "stdout",
     "output_type": "stream",
     "text": [
      "[[ 6 20]\n",
      " [ 4 30]]\n",
      "---------------\n",
      "[[20  2]\n",
      " [30  3]]\n",
      "---------------\n",
      "[[ 1  3 10 17]\n",
      " [ 7  6 20  2]\n",
      " [ 1  4 30  3]]\n"
     ]
    }
   ],
   "source": [
    "#Extraire une sous-matrice \n",
    "print(C[1:3,1:3])\n",
    "print(\"---------------\")\n",
    "print(C[1:3,2:4])\n",
    "print(\"---------------\")\n",
    "print(C[:,:]) # Cela renvoie toutes la matrice. \n",
    "                #les deux points (:) permet de sélectionner toute une ligne ou une colonnes "
   ]
  },
  {
   "cell_type": "markdown",
   "metadata": {},
   "source": [
    "Exercice :"
   ]
  },
  {
   "cell_type": "markdown",
   "metadata": {},
   "source": [
    "a) Créer une matrice Z à l'aide de la commande np.ones() et de boucle \"for\" et l'afficher"
   ]
  },
  {
   "cell_type": "code",
   "execution_count": 20,
   "metadata": {},
   "outputs": [
    {
     "name": "stdout",
     "output_type": "stream",
     "text": [
      "[[1 1 1 1 1]\n",
      " [1 0 0 0 0]\n",
      " [1 0 0 0 0]\n",
      " [1 0 0 0 0]\n",
      " [1 1 1 1 1]]\n"
     ]
    }
   ],
   "source": [
    "#On donne la matrice suivante: \n",
    "Z = np.array([[1,1,1,1,1],[1,0,0,0,0],[1,0,0,0,0],[1,0,0,0,0],[1,1,1,1,1]])\n",
    "print(Z)\n",
    "# Ne pas oublier les doubles crochets dans l'utilisation de 'array()' "
   ]
  },
  {
   "cell_type": "code",
   "execution_count": 21,
   "metadata": {},
   "outputs": [
    {
     "name": "stdout",
     "output_type": "stream",
     "text": [
      "[[1. 1. 1. 1. 1.]\n",
      " [1. 0. 0. 0. 0.]\n",
      " [1. 0. 0. 0. 0.]\n",
      " [1. 0. 0. 0. 0.]\n",
      " [1. 1. 1. 1. 1.]]\n"
     ]
    }
   ],
   "source": [
    "# !!! Attention : il ne faut pas oublier que le dernier index n'est pas pris en compte \n",
    "# [n;m[ intervalle fermé en 'n' et ouvert en 'm' \n",
    "Z1 = np.ones((5,5))\n",
    "for i in range(1,4):\n",
    "    for j in range(1,5):\n",
    "        Z1[i,j] = 0\n",
    "\n",
    "print(Z1)"
   ]
  },
  {
   "cell_type": "markdown",
   "metadata": {},
   "source": [
    "b) Créer la matrice Z à l'aide de np.zeros(), de boucle for et l'afficher  "
   ]
  },
  {
   "cell_type": "code",
   "execution_count": 22,
   "metadata": {},
   "outputs": [
    {
     "name": "stdout",
     "output_type": "stream",
     "text": [
      "[[0. 0. 0. 0. 0.]\n",
      " [0. 0. 0. 0. 0.]\n",
      " [0. 0. 0. 0. 0.]\n",
      " [0. 0. 0. 0. 0.]\n",
      " [0. 0. 0. 0. 0.]]\n"
     ]
    }
   ],
   "source": [
    "Z2 = np.zeros((5,5))\n",
    "print(Z2)"
   ]
  },
  {
   "cell_type": "code",
   "execution_count": 23,
   "metadata": {},
   "outputs": [
    {
     "name": "stdout",
     "output_type": "stream",
     "text": [
      "[[1. 1. 1. 1. 1.]\n",
      " [1. 0. 0. 0. 0.]\n",
      " [1. 0. 0. 0. 0.]\n",
      " [1. 0. 0. 0. 0.]\n",
      " [1. 1. 1. 1. 1.]]\n"
     ]
    }
   ],
   "source": [
    "# [i,j] \\ i ==> colonnes et j ==> lignes\n",
    "\n",
    "for j in range(0,5):\n",
    "    Z2[0,j] = 1\n",
    "    Z2[4,j] = 1\n",
    "for i in range(0,5):\n",
    "    Z2[i,0] = 1\n",
    "\n",
    "print(Z2)"
   ]
  },
  {
   "cell_type": "markdown",
   "metadata": {},
   "source": [
    "c) Créer la matrice Z à l'aide de np.ones et d'une modification de np.zeros puis afficher "
   ]
  },
  {
   "cell_type": "code",
   "execution_count": 24,
   "metadata": {},
   "outputs": [
    {
     "name": "stdout",
     "output_type": "stream",
     "text": [
      "[[1. 1. 1. 1. 1.]\n",
      " [1. 1. 1. 1. 1.]\n",
      " [1. 1. 1. 1. 1.]\n",
      " [1. 1. 1. 1. 1.]\n",
      " [1. 1. 1. 1. 1.]]\n"
     ]
    }
   ],
   "source": [
    "Z3 = np.ones((5,5))\n",
    "print(Z3)"
   ]
  },
  {
   "cell_type": "code",
   "execution_count": 25,
   "metadata": {},
   "outputs": [
    {
     "name": "stdout",
     "output_type": "stream",
     "text": [
      "[[1. 1. 1. 1. 1.]\n",
      " [1. 0. 0. 0. 0.]\n",
      " [1. 0. 0. 0. 0.]\n",
      " [1. 0. 0. 0. 0.]\n",
      " [1. 1. 1. 1. 1.]]\n"
     ]
    }
   ],
   "source": [
    "Z3[1:4,1:5] = np.zeros((3,4))\n",
    "print(Z3)"
   ]
  },
  {
   "cell_type": "code",
   "execution_count": 26,
   "metadata": {},
   "outputs": [
    {
     "name": "stdout",
     "output_type": "stream",
     "text": [
      "[[0. 0. 0. 0. 0.]\n",
      " [0. 0. 0. 0. 0.]\n",
      " [0. 0. 0. 0. 0.]\n",
      " [0. 0. 0. 0. 0.]\n",
      " [0. 0. 0. 0. 0.]]\n"
     ]
    }
   ],
   "source": [
    "#Essayons avec np.zeros\n",
    "Z4 = np.zeros((5,5))\n",
    "print(Z4)"
   ]
  },
  {
   "cell_type": "code",
   "execution_count": 27,
   "metadata": {},
   "outputs": [
    {
     "name": "stdout",
     "output_type": "stream",
     "text": [
      "[[1. 1. 1. 1. 1.]\n",
      " [1. 0. 0. 0. 0.]\n",
      " [1. 0. 0. 0. 0.]\n",
      " [1. 0. 0. 0. 0.]\n",
      " [1. 1. 1. 1. 1.]]\n"
     ]
    }
   ],
   "source": [
    "Z4[0,1:5] = 1\n",
    "Z4[4,1:5] = 1\n",
    "for i in range(0,5):\n",
    "    Z4[i,0] = 1\n",
    "\n",
    "print(Z4)"
   ]
  },
  {
   "cell_type": "markdown",
   "metadata": {},
   "source": [
    "np.arange(D,O,P) ==> créer un vecteur ligne sur l'intervalle ouvert [a,b[ avec un pas  de 'p'"
   ]
  },
  {
   "cell_type": "code",
   "execution_count": 28,
   "metadata": {},
   "outputs": [
    {
     "name": "stdout",
     "output_type": "stream",
     "text": [
      "[-2  2  6 10 14]\n",
      "[ 0.5  1.5  2.5  3.5  4.5  5.5  6.5  7.5  8.5  9.5 10.5 11.5 12.5 13.5]\n",
      "[10  9  8  7  6  5  4  3  2  1]\n"
     ]
    }
   ],
   "source": [
    "#DOP ==> Départ, Obstacle(fin), Pas\n",
    "W = np.arange(-2,16,4) # a et b peuvent être des réels (float)\n",
    "print(W)\n",
    "W1 = np.arange(0.5,14.2) #Par défaut le pas est 1 \n",
    "print(W1)\n",
    "W2 = np.arange(10,0,-1) #le pas peut être négatif \n",
    "# !!! Attention : si le pas est négatif, il faut commencer pas le plus grand pour aller vers le plus petit \n",
    "print(W2)"
   ]
  },
  {
   "cell_type": "markdown",
   "metadata": {},
   "source": [
    "np.linspace(D,A,Nte) ==> créer un vecteur ligne"
   ]
  },
  {
   "cell_type": "code",
   "execution_count": 29,
   "metadata": {},
   "outputs": [
    {
     "name": "stdout",
     "output_type": "stream",
     "text": [
      "[ 0. 10.]\n",
      "[ 0.   2.5  5.   7.5 10. ]\n"
     ]
    }
   ],
   "source": [
    "#DANte ==> Départ, Arrivée, Nbre de terme \n",
    "R = np.linspace(0,10,2)\n",
    "print(R)\n",
    "# Reprenons la même chose avec 5 terme \n",
    "R1 = np.linspace(0,10,5)\n",
    "print(R1)"
   ]
  },
  {
   "cell_type": "markdown",
   "metadata": {},
   "source": [
    "Opérations avec les matrices"
   ]
  },
  {
   "cell_type": "code",
   "execution_count": 30,
   "metadata": {},
   "outputs": [
    {
     "name": "stdout",
     "output_type": "stream",
     "text": [
      "[[ 2  3  4]\n",
      " [ 5  6  7]\n",
      " [ 8  9 10]]\n",
      "________________________\n",
      "------------------------\n",
      "[[10. 10. 10.]\n",
      " [10. 10. 10.]\n",
      " [10. 10. 10.]]\n",
      "________________________\n",
      "------------------------\n",
      "[[11. 12. 13.]\n",
      " [14. 15. 16.]\n",
      " [17. 18. 19.]]\n",
      "________________________\n",
      "------------------------\n",
      "[[-9. -8. -7.]\n",
      " [-6. -5. -4.]\n",
      " [-3. -2. -1.]]\n",
      "________________________\n",
      "------------------------\n",
      "[[10. 20. 30.]\n",
      " [40. 50. 60.]\n",
      " [70. 80. 90.]]\n",
      "________________________\n",
      "------------------------\n",
      "[[0.1 0.2 0.3]\n",
      " [0.4 0.5 0.6]\n",
      " [0.7 0.8 0.9]]\n",
      "________________________\n",
      "------------------------\n",
      "[[1.00000000e+00 1.02400000e+03 5.90490000e+04]\n",
      " [1.04857600e+06 9.76562500e+06 6.04661760e+07]\n",
      " [2.82475249e+08 1.07374182e+09 3.48678440e+09]]\n"
     ]
    }
   ],
   "source": [
    "#Opérations coefficients par coefficients \n",
    "print(D+1) # Addition d'une matrice avec un scalaire\n",
    "print(\"________________________\")\n",
    "print(\"------------------------\")\n",
    "B = 10 * np.ones((3,3)) # Multiplication d'une matrice avec un scalaire \n",
    "print(B)\n",
    "print(\"________________________\")\n",
    "print(\"------------------------\")\n",
    "print(D+B) # Addition de deux matrices \n",
    "print(\"________________________\")\n",
    "print(\"------------------------\")\n",
    "print(D-B) # Soustraction de deux matrices\n",
    "print(\"________________________\")\n",
    "print(\"------------------------\")\n",
    "print(D*B) # Multiplication de deux matrices\n",
    "print(\"________________________\")\n",
    "print(\"------------------------\")\n",
    "print(D/B) # Division de deux matrices \n",
    "print(\"________________________\")\n",
    "print(\"------------------------\")\n",
    "print(D**B) # Exposant de matrice par une autre matrice\n",
    "\n"
   ]
  },
  {
   "cell_type": "markdown",
   "metadata": {},
   "source": [
    "Exercice : \n",
    "            Utiliser np.ones et np.eye pour créer une matrice "
   ]
  },
  {
   "cell_type": "code",
   "execution_count": 31,
   "metadata": {},
   "outputs": [
    {
     "name": "stdout",
     "output_type": "stream",
     "text": [
      "[[-8.  4.  4.]\n",
      " [ 4. -8.  4.]\n",
      " [ 4.  4. -8.]]\n",
      "________________________\n",
      "------------------------\n",
      "[[-8.  4.  4.]\n",
      " [ 4. -8.  4.]\n",
      " [ 4.  4. -8.]]\n"
     ]
    }
   ],
   "source": [
    "#On donne le matrice \n",
    "\n",
    "M = (np.array([[-8,4,4],[4,-8,4],[4,4,-8]]))/1 #J'ai divisé par un 1 pour avoir des floats \n",
    "print(M)\n",
    "\n",
    "#Recréer la matrice M\n",
    "\n",
    "print(\"________________________\")\n",
    "print(\"------------------------\")\n",
    "\n",
    "M2 = 4 * np.ones((3,3)) - 12 * np.eye(3,3)\n",
    "print(M2)"
   ]
  },
  {
   "cell_type": "markdown",
   "metadata": {},
   "source": [
    "Produit de matrices "
   ]
  },
  {
   "cell_type": "code",
   "execution_count": 32,
   "metadata": {},
   "outputs": [
    {
     "name": "stdout",
     "output_type": "stream",
     "text": [
      "[[11 24 36]\n",
      " [73 53 19]\n",
      " [42 34 45]]\n",
      "________________________\n",
      "------------------------\n",
      "[[10. 10. 10.]\n",
      " [10. 10. 10.]\n",
      " [10. 10. 10.]]\n",
      "________________________\n",
      "------------------------\n",
      "le produit de A et de B est :\n",
      "[[ 710.  710.  710.]\n",
      " [1450. 1450. 1450.]\n",
      " [1210. 1210. 1210.]]\n"
     ]
    }
   ],
   "source": [
    "#on donne les matrices A et B \n",
    "A = np.array([[11,24,36],[73,53,19],[42,34,45]])\n",
    "print(A)\n",
    "print(\"________________________\")\n",
    "print(\"------------------------\")\n",
    "print(B)\n",
    "# Le produit de A et de B est PR\n",
    "PR = np.dot(A,B)\n",
    "print(\"________________________\")\n",
    "print(\"------------------------\")\n",
    "print(\"le produit de A et de B est :\")\n",
    "print(PR)\n"
   ]
  },
  {
   "cell_type": "code",
   "execution_count": 33,
   "metadata": {},
   "outputs": [
    {
     "name": "stdout",
     "output_type": "stream",
     "text": [
      "[[ 8520. 10650. 12780.]\n",
      " [17400. 21750. 26100.]\n",
      " [14520. 18150. 21780.]]\n"
     ]
    }
   ],
   "source": [
    "#le produit de trois matrices \n",
    "PR1 = np.dot(A,np.dot(B,D))\n",
    "print(PR1)\n",
    "\n",
    "# Pour le produit de trois matrices, il faut soit utiliser 2 fois np.dot() ou\n",
    "# on peut affecter le 1er produit à une variable puis après multiplier par la troisième matrice\n",
    "# !!! Attention : Ne pas oublier la règle du produit d'une matrice [(n,m) * (m,p) = (n,p)]"
   ]
  },
  {
   "cell_type": "markdown",
   "metadata": {},
   "source": [
    "Inverse de matrice "
   ]
  },
  {
   "cell_type": "code",
   "execution_count": 34,
   "metadata": {},
   "outputs": [
    {
     "name": "stdout",
     "output_type": "stream",
     "text": [
      "[[-0.05548288 -0.00459433  0.04632613]\n",
      " [ 0.07934786  0.03244744 -0.07717832]\n",
      " [-0.00816769 -0.0202278   0.037297  ]]\n",
      "________________________\n",
      "------------------------\n",
      "[[-0.05548288 -0.00459433  0.04632613]\n",
      " [ 0.07934786  0.03244744 -0.07717832]\n",
      " [-0.00816769 -0.0202278   0.037297  ]]\n",
      "________________________\n",
      "------------------------\n",
      "[[ 1.00000000e+00  4.16333634e-17 -2.49800181e-16]\n",
      " [-5.62050406e-16  1.00000000e+00 -1.31838984e-16]\n",
      " [-5.20417043e-16 -3.12250226e-17  1.00000000e+00]]\n"
     ]
    }
   ],
   "source": [
    "# A**(-1) renvoie l'inverse de chaque coefficients\n",
    "# Pour calculer l'inverse d'une matrice, on utilise les fonctions : \n",
    "# np.linalg.inv() ou al.inv() , np.linalg.matrix_power(matrice, -1) \n",
    "#np.linalg.matrix_power() sert au fait à calculer les puissances de matrices\n",
    "# !!! Attention : la matrice doit être inversible [ |D| ≠ 0 ] \n",
    "# Pour utiliser al.inv(), il faut importer le module numpy.linalg \n",
    "\n",
    "A_inv = np.linalg.inv(A)\n",
    "print(A_inv)\n",
    "print(\"________________________\")\n",
    "print(\"------------------------\")\n",
    "A_inv2 = np.linalg.matrix_power(A,-1)\n",
    "print(A_inv2)\n",
    "\n",
    "print(\"________________________\")\n",
    "print(\"------------------------\")\n",
    "#Verifions que A_inv est bien l'inverse de A \n",
    " \n",
    "Vérifions = np.dot(A,A_inv)\n",
    "print(Vérifions)\n",
    "# On obtient bien la matrice identité avec des 1 sur la diagonales principales \n",
    "# et des nombres proches de 0  \n"
   ]
  },
  {
   "cell_type": "markdown",
   "metadata": {},
   "source": [
    "Transposé de matrice "
   ]
  },
  {
   "cell_type": "code",
   "execution_count": 35,
   "metadata": {},
   "outputs": [
    {
     "name": "stdout",
     "output_type": "stream",
     "text": [
      "[1 2 3]\n",
      "________________________\n",
      "------------------------\n",
      "[[10]\n",
      " [20]\n",
      " [30]]\n",
      "________________________\n",
      "------------------------\n",
      "[[10 20 30]]\n",
      "________________________\n",
      "------------------------\n",
      "[[10 20 30]]\n"
     ]
    }
   ],
   "source": [
    "# On utilise la fonction np.transpose() ou Matrice.transpose()\n",
    "# la transposé est impossible avec cette fonction \n",
    "# Pour rappel les vecteurs se note : np.array([x,y,z]) avec une seule paire de crochets \n",
    "# Exemple :\n",
    "Vecteur = np.array([1,2,3])\n",
    "vecteur_transpose = np.transpose(Vecteur)\n",
    "print(vecteur_transpose) # rien ne se passe !!!\n",
    "\n",
    "print(\"________________________\")\n",
    "print(\"------------------------\")\n",
    "# Essayons maintenant avec une matrice \n",
    "print(N)\n",
    "print(\"________________________\")\n",
    "print(\"------------------------\")\n",
    "N_transpose = np.transpose(N)\n",
    "print(N_transpose)\n",
    "\n",
    "print(\"________________________\")\n",
    "print(\"------------------------\")\n",
    "N_transpose = N.transpose()\n",
    "print(N_transpose)\n"
   ]
  },
  {
   "cell_type": "markdown",
   "metadata": {},
   "source": [
    "la fonction np.shape()"
   ]
  },
  {
   "cell_type": "code",
   "execution_count": 36,
   "metadata": {},
   "outputs": [
    {
     "name": "stdout",
     "output_type": "stream",
     "text": [
      "(3, 3)\n"
     ]
    }
   ],
   "source": [
    "Shape = np.shape(A)\n",
    "print(Shape)"
   ]
  },
  {
   "cell_type": "code",
   "execution_count": 57,
   "metadata": {},
   "outputs": [
    {
     "name": "stdout",
     "output_type": "stream",
     "text": [
      "a = 3\n",
      "------------------------\n",
      "b = 3\n"
     ]
    }
   ],
   "source": [
    "# a : nbre de lignes et b : nbre de colonnes \n",
    "a,b = np.shape(A)\n",
    "print(\"a =\",a)\n",
    "print(\"------------------------\")\n",
    "print(\"b =\",b)"
   ]
  },
  {
   "cell_type": "markdown",
   "metadata": {},
   "source": [
    "np.min(), np.max(), np.mean(),np.median, np.var(), np.std() "
   ]
  },
  {
   "cell_type": "code",
   "execution_count": 40,
   "metadata": {},
   "outputs": [
    {
     "name": "stdout",
     "output_type": "stream",
     "text": [
      "[[11 24 36]\n",
      " [73 53 19]\n",
      " [42 34 45]]\n"
     ]
    }
   ],
   "source": [
    "# On donne la matrice A \n",
    "print(A)"
   ]
  },
  {
   "cell_type": "code",
   "execution_count": 41,
   "metadata": {},
   "outputs": [
    {
     "name": "stdout",
     "output_type": "stream",
     "text": [
      "le minimun des coefficients est  11\n",
      "le maximum des coefficients est  73\n",
      "la moyenne des coefficients est  37.44444444444444\n",
      "la médiane des coefficients est  36.0\n",
      "la variance des coefficients est  313.13580246913574\n",
      "l'écart-type des coefficients est  17.695643601438626\n"
     ]
    }
   ],
   "source": [
    "print(\"le minimun des coefficients est \", np.min(A))\n",
    "print(\"le maximum des coefficients est \", np.max(A))\n",
    "print(\"la moyenne des coefficients est \", np.mean(A))\n",
    "print(\"la médiane des coefficients est \", np.median(A))\n",
    "print(\"la variance des coefficients est \", np.var(A))\n",
    "print(\"l'écart-type des coefficients est \", np.std(A))"
   ]
  },
  {
   "cell_type": "code",
   "execution_count": 45,
   "metadata": {},
   "outputs": [
    {
     "name": "stdout",
     "output_type": "stream",
     "text": [
      "le minimum de chaque colonnes est : [11 24 19]\n",
      "le minimum de chaque ligne est : [11 19 34]\n",
      "________________________\n",
      "------------------------\n",
      "le maximum de chaque colonnes est : [73 53 45]\n",
      "le maximum de chaque ligne est : [36 73 45]\n"
     ]
    }
   ],
   "source": [
    "# La fonction np.min(A,0) renvoie un vecteur dont les composantes sont les minimum de chaque colonne\n",
    "# et np.min(A,1) renvoie un vecteur dont les composantes sont les minimum de chaque ligne\n",
    "\n",
    "print(\"le minimum de chaque colonnes est :\", np.min(A,0))\n",
    "print(\"le minimum de chaque ligne est :\", np.min(A,1))\n",
    "\n",
    "print(\"________________________\")\n",
    "print(\"------------------------\")\n",
    "\n",
    "# Idem avec avec la fonction np.max()\n",
    "print(\"le maximum de chaque colonnes est :\", np.max(A,0))\n",
    "print(\"le maximum de chaque ligne est :\", np.max(A,1))\n",
    "\n"
   ]
  },
  {
   "cell_type": "code",
   "execution_count": 51,
   "metadata": {},
   "outputs": [
    {
     "name": "stdout",
     "output_type": "stream",
     "text": [
      "la moyenne de chaque colonne est : [42.         37.         33.33333333]\n",
      "la moyenne de chaque ligne est : [23.66666667 48.33333333 40.33333333]\n",
      "________________________\n",
      "------------------------\n",
      "le médiane de chaque colonne est : [42. 34. 36.]\n",
      "le médiane de chaque ligne est : [24. 53. 42.]\n",
      "________________________\n",
      "------------------------\n",
      "la variance de chaque colonne est : [640.66666667 144.66666667 116.22222222]\n",
      "la variance de chaque ligne est : [104.22222222 496.88888889  21.55555556]\n",
      "________________________\n",
      "------------------------\n",
      "l'écart-type de chaque colonnes est : [25.31139401 12.0277457  10.78064109]\n",
      "l'écart-type de chaque ligne est : [10.20892855 22.29100466  4.64279609]\n"
     ]
    }
   ],
   "source": [
    "# Pareil avec np.mean(), np.median(), np.var(), np.std()\n",
    "print(\"la moyenne de chaque colonne est :\", np.mean(A,0))\n",
    "print(\"la moyenne de chaque ligne est :\", np.mean(A,1))\n",
    "print(\"________________________\")\n",
    "print(\"------------------------\")\n",
    "print(\"le médiane de chaque colonne est :\", np.median(A,0))\n",
    "print(\"le médiane de chaque ligne est :\", np.median(A,1))\n",
    "print(\"________________________\")\n",
    "print(\"------------------------\")\n",
    "print(\"la variance de chaque colonne est :\", np.var(A,0))\n",
    "print(\"la variance de chaque ligne est :\", np.var(A,1))\n",
    "print(\"________________________\")\n",
    "print(\"------------------------\")\n",
    "print(\"l'écart-type de chaque colonnes est :\", np.std(A,0))\n",
    "print(\"l'écart-type de chaque ligne est :\", np.std(A,1))\n"
   ]
  },
  {
   "cell_type": "markdown",
   "metadata": {},
   "source": [
    "np.sum() et np.prod()"
   ]
  },
  {
   "cell_type": "code",
   "execution_count": 56,
   "metadata": {},
   "outputs": [
    {
     "name": "stdout",
     "output_type": "stream",
     "text": [
      "la somme des coefficients de A est :  337\n",
      "le produit des coefficients de A est :  44895155437440\n",
      "________________________\n",
      "------------------------\n",
      "la somme des coefficients des colonnes de A est :  [126 111 100]\n",
      "la somme des coefficients des lignes de A est :  [ 71 145 121]\n",
      "________________________\n",
      "------------------------\n",
      "le produit des coefficients des colonnes de A est :  [33726 43248 30780]\n",
      "le produit des coefficients des lignes de A est :  [ 9504 73511 64260]\n"
     ]
    }
   ],
   "source": [
    "# les fonctions np.sum() et np.prod() permettent de faire la somme \n",
    "# et le produit des coefficients d'une matrice\n",
    "\n",
    "print(\"la somme des coefficients de A est : \", np.sum(A))\n",
    "print(\"le produit des coefficients de A est : \", np.prod(A))\n",
    "\n",
    "print(\"________________________\")\n",
    "print(\"------------------------\")\n",
    "\n",
    "# il est aussi possible de le faire sur les colonne ou sur les lignes\n",
    "print(\"la somme des coefficients des colonnes de A est : \", np.sum(A,0))\n",
    "print(\"la somme des coefficients des lignes de A est : \", np.sum(A,1))\n",
    "\n",
    "print(\"________________________\")\n",
    "print(\"------------------------\")\n",
    "\n",
    "print(\"le produit des coefficients des colonnes de A est : \", np.prod(A,0))\n",
    "print(\"le produit des coefficients des lignes de A est : \", np.prod(A,1))"
   ]
  },
  {
   "cell_type": "markdown",
   "metadata": {},
   "source": [
    "np.cumsum(), np.cumprod()"
   ]
  },
  {
   "cell_type": "code",
   "execution_count": 66,
   "metadata": {},
   "outputs": [
    {
     "name": "stdout",
     "output_type": "stream",
     "text": [
      "la somme cumulative des coefficients de A est :  [ 11  35  71 144 197 216 258 292 337]\n",
      "la somme cumulative des coefficients des colonnes de A est : \n",
      "[[ 11  24  36]\n",
      " [ 84  77  55]\n",
      " [126 111 100]]\n",
      "la somme cumulative des coefficients des lignes de A est : \n",
      "[[ 11  35  71]\n",
      " [ 73 126 145]\n",
      " [ 42  76 121]]\n",
      "________________________\n",
      "------------------------\n",
      "le produit cumulative des coefficients de A est : \n",
      "[            11            264           9504         693792\n",
      "       36770976      698648544    29343238848   997670120832\n",
      " 44895155437440]\n",
      "le produit cumulative des coefficients des colonnes de A est : \n",
      "[[   11    24    36]\n",
      " [  803  1272   684]\n",
      " [33726 43248 30780]]\n",
      "le produit cumulative des coefficients des lignes de A est : \n",
      "[[   11   264  9504]\n",
      " [   73  3869 73511]\n",
      " [   42  1428 64260]]\n"
     ]
    }
   ],
   "source": [
    "# la fonction np.cumsum() permet de faire la somme cumulative\n",
    "# la fonction np.cumprod() permet de faire le produit cumulative\n",
    "print(\"la somme cumulative des coefficients de A est : \", np.cumsum(A))\n",
    "print(\"la somme cumulative des coefficients des colonnes de A est : \")\n",
    "print(np.cumsum(A,0))\n",
    "print(\"la somme cumulative des coefficients des lignes de A est : \")\n",
    "print(np.cumsum(A,1))\n",
    "print(\"________________________\")\n",
    "print(\"------------------------\")\n",
    "print(\"le produit cumulative des coefficients de A est : \")\n",
    "print(np.cumprod(A))\n",
    "print(\"le produit cumulative des coefficients des colonnes de A est : \")\n",
    "print( np.cumprod(A,0))\n",
    "print(\"le produit cumulative des coefficients des lignes de A est : \")\n",
    "print( np.cumprod(A,1))"
   ]
  },
  {
   "cell_type": "code",
   "execution_count": null,
   "metadata": {},
   "outputs": [],
   "source": []
  }
 ],
 "metadata": {
  "kernelspec": {
   "display_name": "env_finance",
   "language": "python",
   "name": "python3"
  },
  "language_info": {
   "codemirror_mode": {
    "name": "ipython",
    "version": 3
   },
   "file_extension": ".py",
   "mimetype": "text/x-python",
   "name": "python",
   "nbconvert_exporter": "python",
   "pygments_lexer": "ipython3",
   "version": "3.12.4"
  }
 },
 "nbformat": 4,
 "nbformat_minor": 2
}
