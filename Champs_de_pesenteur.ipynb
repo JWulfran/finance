{
 "cells": [
  {
   "cell_type": "markdown",
   "metadata": {},
   "source": [
    "# Projet Python: Calcul en physique\n",
    "Un projectile lancé à un certain angle $\\theta$. le projectile est un objet de 60 Kg.\n",
    "OA est la dsitance vertical parcourue\n",
    "1. Au départ de M\n",
    "    - La vitesse \n",
    "    - L'accélération \n",
    "    - La force nécéssaire pour que M atteigne le point A, distant de 60m (OA=60m)\n",
    "2. Au maximum de la courbe \n",
    "    - La vitesse \n",
    "    - L'accélération \n",
    "    - la hauteur maximale $H_m$"
   ]
  },
  {
   "cell_type": "markdown",
   "metadata": {},
   "source": [
    "## Au départ\n",
    "    Pour atteindre A la vitesse de départ de M doit être :"
   ]
  }
 ],
 "metadata": {
  "language_info": {
   "name": "python"
  }
 },
 "nbformat": 4,
 "nbformat_minor": 2
}
